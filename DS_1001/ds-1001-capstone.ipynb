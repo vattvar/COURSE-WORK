{
 "cells": [
  {
   "cell_type": "code",
   "execution_count": 1,
   "id": "edcc1479",
   "metadata": {
    "_cell_guid": "b1076dfc-b9ad-4769-8c92-a6c4dae69d19",
    "_uuid": "8f2839f25d086af736a60e9eeb907d3b93b6e0e5",
    "execution": {
     "iopub.execute_input": "2021-12-22T02:10:54.115341Z",
     "iopub.status.busy": "2021-12-22T02:10:54.114177Z",
     "iopub.status.idle": "2021-12-22T02:10:55.858598Z",
     "shell.execute_reply": "2021-12-22T02:10:55.859181Z",
     "shell.execute_reply.started": "2021-12-21T22:31:00.425053Z"
    },
    "papermill": {
     "duration": 1.786936,
     "end_time": "2021-12-22T02:10:55.859493",
     "exception": false,
     "start_time": "2021-12-22T02:10:54.072557",
     "status": "completed"
    },
    "tags": []
   },
   "outputs": [],
   "source": [
    "# This Python 3 environment comes with many helpful analytics libraries installed\n",
    "# It is defined by the kaggle/python Docker image: https://github.com/kaggle/docker-python\n",
    "# For example, here's several helpful packages to load\n",
    "\n",
    "import numpy as np # linear algebra\n",
    "import pandas as pd # data processing, CSV file I/O (e.g. pd.read_csv)\n",
    "import matplotlib.pyplot as plt\n",
    "import seaborn as sns\n",
    "from scipy import stats\n",
    "from scipy.stats import chisquare\n",
    "from sklearn.model_selection import cross_val_score\n",
    "from sklearn.tree import DecisionTreeClassifier\n",
    "from sklearn.metrics import accuracy_score,precision_score,recall_score,f1_score,roc_auc_score\n",
    "from sklearn.model_selection import KFold\n",
    "from sklearn.model_selection import GridSearchCV\n",
    "from sklearn.linear_model import LogisticRegression\n",
    "from xgboost import XGBClassifier\n",
    "from sklearn.neural_network import MLPClassifier\n",
    "\n",
    "\n",
    "import imblearn\n",
    "from imblearn.over_sampling import RandomOverSampler\n",
    "from sklearn.model_selection import train_test_split\n",
    "from sklearn.preprocessing import StandardScaler\n",
    "from sklearn.decomposition import PCA\n",
    "from imblearn.over_sampling import SMOTE\n",
    "from imblearn.pipeline import Pipeline\n",
    "import warnings\n",
    "warnings.filterwarnings(\"ignore\")\n",
    "from sklearn.feature_selection import chi2\n",
    "from sklearn.metrics.cluster import normalized_mutual_info_score\n",
    "from sklearn.ensemble import RandomForestClassifier\n",
    "import os\n"
   ]
  },
  {
   "cell_type": "markdown",
   "id": "6e6dfc18",
   "metadata": {
    "papermill": {
     "duration": 0.035681,
     "end_time": "2021-12-22T02:10:55.934312",
     "exception": false,
     "start_time": "2021-12-22T02:10:55.898631",
     "status": "completed"
    },
    "tags": []
   },
   "source": [
    "# EDA"
   ]
  },
  {
   "cell_type": "code",
   "execution_count": 2,
   "id": "b0f8e045",
   "metadata": {
    "execution": {
     "iopub.execute_input": "2021-12-22T02:10:56.011073Z",
     "iopub.status.busy": "2021-12-22T02:10:56.010339Z",
     "iopub.status.idle": "2021-12-22T02:10:56.942509Z",
     "shell.execute_reply": "2021-12-22T02:10:56.943503Z",
     "shell.execute_reply.started": "2021-12-21T22:31:03.430951Z"
    },
    "papermill": {
     "duration": 0.973277,
     "end_time": "2021-12-22T02:10:56.943745",
     "exception": false,
     "start_time": "2021-12-22T02:10:55.970468",
     "status": "completed"
    },
    "tags": []
   },
   "outputs": [
    {
     "name": "stdout",
     "output_type": "stream",
     "text": [
      "Index(['Diabetes_binary', 'HighBP', 'HighChol', 'CholCheck', 'BMI', 'Smoker',\n",
      "       'Stroke', 'HeartDiseaseorAttack', 'PhysActivity', 'Fruits', 'Veggies',\n",
      "       'HvyAlcoholConsump', 'AnyHealthcare', 'NoDocbcCost', 'GenHlth',\n",
      "       'MentHlth', 'PhysHlth', 'DiffWalk', 'Sex', 'Age', 'Education',\n",
      "       'Income'],\n",
      "      dtype='object')\n",
      "<class 'pandas.core.frame.DataFrame'>\n",
      "RangeIndex: 253680 entries, 0 to 253679\n",
      "Data columns (total 22 columns):\n",
      " #   Column                Non-Null Count   Dtype  \n",
      "---  ------                --------------   -----  \n",
      " 0   Diabetes_binary       253680 non-null  float64\n",
      " 1   HighBP                253680 non-null  float64\n",
      " 2   HighChol              253680 non-null  float64\n",
      " 3   CholCheck             253680 non-null  float64\n",
      " 4   BMI                   253680 non-null  float64\n",
      " 5   Smoker                253680 non-null  float64\n",
      " 6   Stroke                253680 non-null  float64\n",
      " 7   HeartDiseaseorAttack  253680 non-null  float64\n",
      " 8   PhysActivity          253680 non-null  float64\n",
      " 9   Fruits                253680 non-null  float64\n",
      " 10  Veggies               253680 non-null  float64\n",
      " 11  HvyAlcoholConsump     253680 non-null  float64\n",
      " 12  AnyHealthcare         253680 non-null  float64\n",
      " 13  NoDocbcCost           253680 non-null  float64\n",
      " 14  GenHlth               253680 non-null  float64\n",
      " 15  MentHlth              253680 non-null  float64\n",
      " 16  PhysHlth              253680 non-null  float64\n",
      " 17  DiffWalk              253680 non-null  float64\n",
      " 18  Sex                   253680 non-null  float64\n",
      " 19  Age                   253680 non-null  float64\n",
      " 20  Education             253680 non-null  float64\n",
      " 21  Income                253680 non-null  float64\n",
      "dtypes: float64(22)\n",
      "memory usage: 42.6 MB\n",
      "None\n"
     ]
    }
   ],
   "source": [
    "#Reading teh data from kaggle local storage\n",
    "df = pd.read_csv(\"/kaggle/input/diabetes-health-indicators-dataset/diabetes_binary_health_indicators_BRFSS2015.csv\")\n",
    "print(df.columns)\n",
    "print(df.info())"
   ]
  },
  {
   "cell_type": "code",
   "execution_count": 3,
   "id": "ada9bcd3",
   "metadata": {
    "execution": {
     "iopub.execute_input": "2021-12-22T02:10:57.024273Z",
     "iopub.status.busy": "2021-12-22T02:10:57.023604Z",
     "iopub.status.idle": "2021-12-22T02:10:57.048913Z",
     "shell.execute_reply": "2021-12-22T02:10:57.049446Z",
     "shell.execute_reply.started": "2021-12-21T22:31:07.737373Z"
    },
    "papermill": {
     "duration": 0.065331,
     "end_time": "2021-12-22T02:10:57.049634",
     "exception": false,
     "start_time": "2021-12-22T02:10:56.984303",
     "status": "completed"
    },
    "tags": []
   },
   "outputs": [],
   "source": [
    "#Predicot Columns and teh Target columns bifurcation\n",
    "target = 'Diabetes_binary'\n",
    "feats = [col for col in df.columns if col!=target]\n",
    "\n",
    "X = df[feats]\n",
    "\n",
    "y=df[target]"
   ]
  },
  {
   "cell_type": "code",
   "execution_count": 4,
   "id": "daeb88d1",
   "metadata": {
    "execution": {
     "iopub.execute_input": "2021-12-22T02:10:57.126794Z",
     "iopub.status.busy": "2021-12-22T02:10:57.126040Z",
     "iopub.status.idle": "2021-12-22T02:10:58.019811Z",
     "shell.execute_reply": "2021-12-22T02:10:58.020320Z",
     "shell.execute_reply.started": "2021-12-21T21:04:21.365958Z"
    },
    "papermill": {
     "duration": 0.934018,
     "end_time": "2021-12-22T02:10:58.020504",
     "exception": false,
     "start_time": "2021-12-22T02:10:57.086486",
     "status": "completed"
    },
    "tags": []
   },
   "outputs": [
    {
     "name": "stdout",
     "output_type": "stream",
     "text": [
      "{'HighBP': 2, 'HighChol': 2, 'CholCheck': 2, 'BMI': 84, 'Smoker': 2, 'Stroke': 2, 'HeartDiseaseorAttack': 2, 'PhysActivity': 2, 'Fruits': 2, 'Veggies': 2, 'HvyAlcoholConsump': 2, 'AnyHealthcare': 2, 'NoDocbcCost': 2, 'GenHlth': 5, 'MentHlth': 31, 'PhysHlth': 31, 'DiffWalk': 2, 'Sex': 2, 'Age': 13, 'Education': 6, 'Income': 8}\n"
     ]
    }
   ],
   "source": [
    "#Number of unique values in each column! All the columns expect BMI are discrete whereas BMI is an approximation\n",
    "col_types = {}\n",
    "for col in df.columns:\n",
    "    if(col != target):\n",
    "        col_types[col] = df.groupby([col]).count()[target].shape[0]\n",
    "print(col_types)"
   ]
  },
  {
   "cell_type": "code",
   "execution_count": 5,
   "id": "8301c914",
   "metadata": {
    "execution": {
     "iopub.execute_input": "2021-12-22T02:10:58.107675Z",
     "iopub.status.busy": "2021-12-22T02:10:58.106942Z",
     "iopub.status.idle": "2021-12-22T02:11:30.108212Z",
     "shell.execute_reply": "2021-12-22T02:11:30.107384Z",
     "shell.execute_reply.started": "2021-12-21T04:42:59.729538Z"
    },
    "papermill": {
     "duration": 32.050182,
     "end_time": "2021-12-22T02:11:30.108418",
     "exception": false,
     "start_time": "2021-12-22T02:10:58.058236",
     "status": "completed"
    },
    "tags": []
   },
   "outputs": [
    {
     "data": {
      "image/png": "[encoded data removed]",
      "text/plain": [
       "<Figure size 2160x3600 with 22 Axes>"
      ]
     },
     "metadata": {
      "needs_background": "light"
     },
     "output_type": "display_data"
    },
    {
     "name": "stdout",
     "output_type": "stream",
     "text": [
      "The disparity in the heights of bars indicate the dependence between of the target and predictor variables.Higher the disparity higher the importance of the feature\n"
     ]
    }
   ],
   "source": [
    "fig,ax=plt.subplots(11,2,figsize = (30,50))\n",
    "i=0\n",
    "row = 0\n",
    "col = 0\n",
    "for col in df.columns:\n",
    "    if(col!=target):\n",
    "        \n",
    "        r = int(i/2)\n",
    "        c = i % 2\n",
    "        if(col_types[col]>2):\n",
    "            sns.scatterplot(df[target],df[col],ax=ax[r][c])\n",
    "        if(col_types[col]<=2):\n",
    "            sns.barplot(df[target],df[col],ax=ax[r][c])\n",
    "        i=i+1\n",
    "            \n",
    "plt.show()\n",
    "            \n",
    "print('The disparity in the heights of bars indicate the dependence between of the target and predictor variables.Higher the disparity higher the importance of the feature') "
   ]
  },
  {
   "cell_type": "markdown",
   "id": "d8b1b83d",
   "metadata": {
    "papermill": {
     "duration": 0.044231,
     "end_time": "2021-12-22T02:11:30.204576",
     "exception": false,
     "start_time": "2021-12-22T02:11:30.160345",
     "status": "completed"
    },
    "tags": []
   },
   "source": [
    "# Feature Dependence\n",
    "Since most of the columns are categorical it is not advisable to use corelation to eliminate any features and hence we are resorting to Chi-Square test ; Mutual Information Score"
   ]
  },
  {
   "cell_type": "code",
   "execution_count": 6,
   "id": "3e490e55",
   "metadata": {
    "execution": {
     "iopub.execute_input": "2021-12-22T02:11:30.295745Z",
     "iopub.status.busy": "2021-12-22T02:11:30.295003Z",
     "iopub.status.idle": "2021-12-22T02:11:30.642141Z",
     "shell.execute_reply": "2021-12-22T02:11:30.642915Z",
     "shell.execute_reply.started": "2021-12-21T04:43:30.950919Z"
    },
    "papermill": {
     "duration": 0.394393,
     "end_time": "2021-12-22T02:11:30.643167",
     "exception": false,
     "start_time": "2021-12-22T02:11:30.248774",
     "status": "completed"
    },
    "tags": []
   },
   "outputs": [
    {
     "name": "stdout",
     "output_type": "stream",
     "text": [
      "0.0\n",
      "0.0\n",
      "0.0\n"
     ]
    }
   ],
   "source": [
    "# HighCol, Stroke,HeartDiseaseorAttack seem to be dependent intuitively\n",
    "#Chi-Square test\n",
    "def chi2_independence(col1,col2):\n",
    "    vals = X.groupby([col1,col2]).count()['BMI'].values\n",
    "    X.groupby([col1,col2]).count()['BMI']\n",
    "    col1_p0 = X[X[col1]==0].shape[0]/X.shape[0]\n",
    "    col2_p0 = X[X[col2]==0].shape[0]/X.shape[0]\n",
    "    exp =  [X.shape[0] *col1_p0*col2_p0,X.shape[0] *col1_p0*(1-col2_p0),X.shape[0] *(1-col1_p0)*col2_p0,X.shape[0] *(1-col1_p0)*(1-col2_p0)]\n",
    "    return stats.chisquare(vals,exp).pvalue\n",
    "\n",
    "p1 = chi2_independence('Stroke','HeartDiseaseorAttack')\n",
    "print(p1)\n",
    "p1 = chi2_independence('Stroke','HighChol')\n",
    "print(p1)\n",
    "p1 = chi2_independence('HighBP','HighChol')\n",
    "print(p1)\n"
   ]
  },
  {
   "cell_type": "code",
   "execution_count": 7,
   "id": "75b49734",
   "metadata": {
    "execution": {
     "iopub.execute_input": "2021-12-22T02:11:30.742077Z",
     "iopub.status.busy": "2021-12-22T02:11:30.741090Z",
     "iopub.status.idle": "2021-12-22T02:11:31.135302Z",
     "shell.execute_reply": "2021-12-22T02:11:31.135795Z",
     "shell.execute_reply.started": "2021-12-21T04:43:31.298205Z"
    },
    "papermill": {
     "duration": 0.443781,
     "end_time": "2021-12-22T02:11:31.135981",
     "exception": false,
     "start_time": "2021-12-22T02:11:30.692200",
     "status": "completed"
    },
    "tags": []
   },
   "outputs": [
    {
     "name": "stdout",
     "output_type": "stream",
     "text": [
      "0.054048215808367384\n",
      "0.00996148634395325\n",
      "0.065721767854643\n",
      "0.004891435530549298\n",
      "0.004891435530549298\n"
     ]
    }
   ],
   "source": [
    "#Mutual Information Score\n",
    "print(normalized_mutual_info_score(X['Stroke'],X['HeartDiseaseorAttack'] ))\n",
    "print(normalized_mutual_info_score(X['Stroke'],X['HighChol'] ))\n",
    "print(normalized_mutual_info_score(X['HighBP'],X['HighChol'] ))\n",
    "print(normalized_mutual_info_score(X['PhysActivity'],X['HighChol'] ))\n",
    "print(normalized_mutual_info_score(X['PhysActivity'],X['HighChol'] ))"
   ]
  },
  {
   "cell_type": "code",
   "execution_count": 8,
   "id": "489d5aa4",
   "metadata": {
    "execution": {
     "iopub.execute_input": "2021-12-22T02:11:31.232136Z",
     "iopub.status.busy": "2021-12-22T02:11:31.231406Z",
     "iopub.status.idle": "2021-12-22T02:11:31.907962Z",
     "shell.execute_reply": "2021-12-22T02:11:31.907357Z",
     "shell.execute_reply.started": "2021-12-21T04:43:31.68741Z"
    },
    "papermill": {
     "duration": 0.726658,
     "end_time": "2021-12-22T02:11:31.908148",
     "exception": false,
     "start_time": "2021-12-22T02:11:31.181490",
     "status": "completed"
    },
    "tags": []
   },
   "outputs": [
    {
     "name": "stdout",
     "output_type": "stream",
     "text": [
      "Income        GenHlth    -0.370014\n",
      "DiffWalk      Income     -0.320124\n",
      "Education     GenHlth    -0.284912\n",
      "Income        PhysHlth   -0.266799\n",
      "PhysActivity  GenHlth    -0.266186\n",
      "dtype: float64\n",
      "HighBP     HighBP      1.000000\n",
      "GenHlth    PhysHlth    0.524364\n",
      "PhysHlth   DiffWalk    0.478417\n",
      "DiffWalk   GenHlth     0.456920\n",
      "Education  Income      0.449106\n",
      "dtype: float64\n",
      "Colums are not heavily linearly corelated. So cant use this to filter out any!\n"
     ]
    }
   ],
   "source": [
    "\n",
    "print(X.corr().unstack().sort_values().drop_duplicates().head(5))\n",
    "print(X.corr().unstack().sort_values(ascending=False).drop_duplicates().head(5))\n",
    "print('Colums are not heavily linearly corelated. So cant use this to filter out any!')"
   ]
  },
  {
   "cell_type": "markdown",
   "id": "77d71bd1",
   "metadata": {
    "papermill": {
     "duration": 0.044916,
     "end_time": "2021-12-22T02:11:31.998429",
     "exception": false,
     "start_time": "2021-12-22T02:11:31.953513",
     "status": "completed"
    },
    "tags": []
   },
   "source": [
    "# Hypothesis Testing\n",
    "\n",
    "\n"
   ]
  },
  {
   "cell_type": "markdown",
   "id": "133581f0",
   "metadata": {
    "papermill": {
     "duration": 0.043477,
     "end_time": "2021-12-22T02:11:32.085725",
     "exception": false,
     "start_time": "2021-12-22T02:11:32.042248",
     "status": "completed"
    },
    "tags": []
   },
   "source": [
    "### **Q1** - CDC has a simple [form](https://www.cdc.gov/prediabetes/takethetest/) to help a candidate understand whether he/she is diabetic. If the candidate is \"safe\" with respect to the select features the result is that the candidate is not diabetic. We want to validate this hypothesis using the data we have\n",
    "#### **Assumptions**: Obviously this wouldnt be 100% accurate but with an alpha of 1-2% would this be accurate?\n",
    "\n",
    "#### **Steps**\n",
    "1. Choose the hypothesis test\n",
    "2. Data Prep.\n",
    "3. Perform the test\n",
    "4. Conclude\n",
    "5. Explanation"
   ]
  },
  {
   "cell_type": "code",
   "execution_count": 9,
   "id": "848941a8",
   "metadata": {
    "execution": {
     "iopub.execute_input": "2021-12-22T02:11:32.186474Z",
     "iopub.status.busy": "2021-12-22T02:11:32.185159Z",
     "iopub.status.idle": "2021-12-22T02:11:32.224578Z",
     "shell.execute_reply": "2021-12-22T02:11:32.223915Z",
     "shell.execute_reply.started": "2021-12-21T04:43:32.373623Z"
    },
    "papermill": {
     "duration": 0.095104,
     "end_time": "2021-12-22T02:11:32.224737",
     "exception": false,
     "start_time": "2021-12-22T02:11:32.129633",
     "status": "completed"
    },
    "tags": []
   },
   "outputs": [
    {
     "data": {
      "text/html": [
       "<div>\n",
       "<style scoped>\n",
       "    .dataframe tbody tr th:only-of-type {\n",
       "        vertical-align: middle;\n",
       "    }\n",
       "\n",
       "    .dataframe tbody tr th {\n",
       "        vertical-align: top;\n",
       "    }\n",
       "\n",
       "    .dataframe thead th {\n",
       "        text-align: right;\n",
       "    }\n",
       "</style>\n",
       "<table border=\"1\" class=\"dataframe\">\n",
       "  <thead>\n",
       "    <tr style=\"text-align: right;\">\n",
       "      <th></th>\n",
       "      <th>Age</th>\n",
       "      <th>GenHlth</th>\n",
       "      <th>PhysActivity</th>\n",
       "      <th>BMI</th>\n",
       "      <th>Smoker</th>\n",
       "      <th>Sum</th>\n",
       "      <th>target</th>\n",
       "    </tr>\n",
       "  </thead>\n",
       "  <tbody>\n",
       "    <tr>\n",
       "      <th>0</th>\n",
       "      <td>1</td>\n",
       "      <td>0</td>\n",
       "      <td>0.0</td>\n",
       "      <td>0</td>\n",
       "      <td>1.0</td>\n",
       "      <td>2.0</td>\n",
       "      <td>0.0</td>\n",
       "    </tr>\n",
       "    <tr>\n",
       "      <th>1</th>\n",
       "      <td>1</td>\n",
       "      <td>0</td>\n",
       "      <td>1.0</td>\n",
       "      <td>1</td>\n",
       "      <td>1.0</td>\n",
       "      <td>4.0</td>\n",
       "      <td>0.0</td>\n",
       "    </tr>\n",
       "    <tr>\n",
       "      <th>2</th>\n",
       "      <td>1</td>\n",
       "      <td>0</td>\n",
       "      <td>0.0</td>\n",
       "      <td>0</td>\n",
       "      <td>0.0</td>\n",
       "      <td>1.0</td>\n",
       "      <td>0.0</td>\n",
       "    </tr>\n",
       "    <tr>\n",
       "      <th>3</th>\n",
       "      <td>1</td>\n",
       "      <td>1</td>\n",
       "      <td>1.0</td>\n",
       "      <td>0</td>\n",
       "      <td>0.0</td>\n",
       "      <td>3.0</td>\n",
       "      <td>0.0</td>\n",
       "    </tr>\n",
       "    <tr>\n",
       "      <th>4</th>\n",
       "      <td>1</td>\n",
       "      <td>1</td>\n",
       "      <td>1.0</td>\n",
       "      <td>1</td>\n",
       "      <td>0.0</td>\n",
       "      <td>4.0</td>\n",
       "      <td>0.0</td>\n",
       "    </tr>\n",
       "  </tbody>\n",
       "</table>\n",
       "</div>"
      ],
      "text/plain": [
       "   Age  GenHlth  PhysActivity  BMI  Smoker  Sum  target\n",
       "0    1        0           0.0    0     1.0  2.0     0.0\n",
       "1    1        0           1.0    1     1.0  4.0     0.0\n",
       "2    1        0           0.0    0     0.0  1.0     0.0\n",
       "3    1        1           1.0    0     0.0  3.0     0.0\n",
       "4    1        1           1.0    1     0.0  4.0     0.0"
      ]
     },
     "execution_count": 9,
     "metadata": {},
     "output_type": "execute_result"
    }
   ],
   "source": [
    "#Prepping the data for hypothesis testing - Making them all booleans\n",
    "ht_columns = ['Age','GenHlth','PhysActivity','BMI','Smoker']\n",
    "ht = X[ht_columns]\n",
    "\n",
    "ht['Age'] = (ht['Age']>4).astype('int')\n",
    "ht['GenHlth'] = (ht['GenHlth']<3).astype('int')\n",
    "ht['BMI'] = ((ht['BMI']<=25) & (ht['BMI']>=18)).astype('int')\n",
    "ht['Sum']=ht.sum(axis=1)\n",
    "ht['target']= y\n",
    "ht.head()"
   ]
  },
  {
   "cell_type": "code",
   "execution_count": 10,
   "id": "6160223c",
   "metadata": {
    "execution": {
     "iopub.execute_input": "2021-12-22T02:11:32.326859Z",
     "iopub.status.busy": "2021-12-22T02:11:32.326120Z",
     "iopub.status.idle": "2021-12-22T02:11:32.348280Z",
     "shell.execute_reply": "2021-12-22T02:11:32.347657Z",
     "shell.execute_reply.started": "2021-12-21T04:43:32.422597Z"
    },
    "papermill": {
     "duration": 0.07863,
     "end_time": "2021-12-22T02:11:32.348420",
     "exception": false,
     "start_time": "2021-12-22T02:11:32.269790",
     "status": "completed"
    },
    "tags": []
   },
   "outputs": [
    {
     "data": {
      "text/plain": [
       "1.0892107243999514e-214"
      ]
     },
     "execution_count": 10,
     "metadata": {},
     "output_type": "execute_result"
    }
   ],
   "source": [
    "\n",
    "#\"Sum\" column being 0 represents that we are in the \"safe-zone\" with respect to all the features picked by CDC\n",
    "ht['safe_feat'] = (ht['Sum']<1).astype('int')\n",
    "freq_obs = [ht[(ht['safe_feat']==1) & (ht['target']==1)].shape[0],ht[(ht['safe_feat']==1) & (ht['target']==0)].shape[0]]\n",
    "#Because the expected is that \"safe-zone\" is free of diabetes\n",
    "#Instead of using \"0\" in the expected as formulas might have issues we take it as 10\n",
    "freq_exp = [10,sum(freq_obs)-10]\n",
    "\n",
    "chisquare(freq_obs).pvalue"
   ]
  },
  {
   "cell_type": "code",
   "execution_count": 11,
   "id": "324a935c",
   "metadata": {
    "execution": {
     "iopub.execute_input": "2021-12-22T02:11:32.443315Z",
     "iopub.status.busy": "2021-12-22T02:11:32.442546Z",
     "iopub.status.idle": "2021-12-22T02:11:32.445203Z",
     "shell.execute_reply": "2021-12-22T02:11:32.445693Z",
     "shell.execute_reply.started": "2021-12-21T04:43:32.448144Z"
    },
    "papermill": {
     "duration": 0.052479,
     "end_time": "2021-12-22T02:11:32.445870",
     "exception": false,
     "start_time": "2021-12-22T02:11:32.393391",
     "status": "completed"
    },
    "tags": []
   },
   "outputs": [
    {
     "name": "stdout",
     "output_type": "stream",
     "text": [
      "[110, 1273]\n"
     ]
    }
   ],
   "source": [
    "print(freq_obs)"
   ]
  },
  {
   "cell_type": "markdown",
   "id": "97a2371c",
   "metadata": {
    "papermill": {
     "duration": 0.044244,
     "end_time": "2021-12-22T02:11:32.534742",
     "exception": false,
     "start_time": "2021-12-22T02:11:32.490498",
     "status": "completed"
    },
    "tags": []
   },
   "source": [
    "##### Conclusion\n",
    "pValue is quite low. So we can reject the null hypothesis and conclude that there is a significant impact "
   ]
  },
  {
   "cell_type": "markdown",
   "id": "cee387b1",
   "metadata": {
    "papermill": {
     "duration": 0.044361,
     "end_time": "2021-12-22T02:11:32.623459",
     "exception": false,
     "start_time": "2021-12-22T02:11:32.579098",
     "status": "completed"
    },
    "tags": []
   },
   "source": [
    "### Q2 - Does it make sense to have different models for younger individuals vs older individuals?\n",
    "1. Splitting around the age of 40 years let us check this.\n",
    "2. Build different models for the datasets\n",
    "3. Compare feature importances in the resultant models using paired t-test\n",
    "(If the feature importances differ for younger and older individuals we need different models)"
   ]
  },
  {
   "cell_type": "code",
   "execution_count": 12,
   "id": "7be6d5c7",
   "metadata": {
    "execution": {
     "iopub.execute_input": "2021-12-22T02:11:32.724031Z",
     "iopub.status.busy": "2021-12-22T02:11:32.723264Z",
     "iopub.status.idle": "2021-12-22T02:11:34.836745Z",
     "shell.execute_reply": "2021-12-22T02:11:34.836078Z",
     "shell.execute_reply.started": "2021-12-21T04:43:32.454789Z"
    },
    "papermill": {
     "duration": 2.168549,
     "end_time": "2021-12-22T02:11:34.836887",
     "exception": false,
     "start_time": "2021-12-22T02:11:32.668338",
     "status": "completed"
    },
    "tags": []
   },
   "outputs": [
    {
     "data": {
      "image/png": "[encoded data removed]",
      "text/plain": [
       "<Figure size 2160x720 with 2 Axes>"
      ]
     },
     "metadata": {
      "needs_background": "light"
     },
     "output_type": "display_data"
    }
   ],
   "source": [
    "\n",
    "clf_young = DecisionTreeClassifier(random_state=0)\n",
    "clf_old = DecisionTreeClassifier(random_state=0)\n",
    "col_name = 'Age'\n",
    "cur_feats = [col for col in feats if col!=col_name]\n",
    "#Data split to build two different models\n",
    "X_young = X[X[col_name]<=4][cur_feats]\n",
    "y_young = y[X[col_name]<=4]\n",
    "X_old = X[X[col_name]>4][cur_feats]\n",
    "y_old = y[X[col_name]>4]\n",
    "#Data Frame with feature importance results\n",
    "model_diff=pd.DataFrame()\n",
    "\n",
    "fig,ax=plt.subplots(1,2,figsize=(30,10))\n",
    "#Model for younger\n",
    "clf_young.fit(X_young,y_young)\n",
    "feat_imp_young=pd.Series(clf_young.feature_importances_)\n",
    "model_diff['young'] = feat_imp_young\n",
    "feat_imp_young.index=cur_feats\n",
    "feat_imp_young = feat_imp_young.sort_values(ascending=False)\n",
    "#Plotting feature importances\n",
    "sns.barplot(y=feat_imp_young.index,x=feat_imp_young,ax=ax[0])\n",
    "\n",
    "#Model for older\n",
    "clf_old.fit(X_old,y_old)\n",
    "feat_imp_old=pd.Series(clf_old.feature_importances_)\n",
    "model_diff['old'] = feat_imp_old\n",
    "feat_imp_old.index=cur_feats\n",
    "feat_imp_old = feat_imp_old.sort_values(ascending=False)\n",
    "#plotting feat importances\n",
    "sns.barplot(y=feat_imp_old.index,x=feat_imp_old,ax=ax[1])\n",
    "\n",
    "model_diff.index=cur_feats"
   ]
  },
  {
   "cell_type": "code",
   "execution_count": 13,
   "id": "093ee1f1",
   "metadata": {
    "execution": {
     "iopub.execute_input": "2021-12-22T02:11:34.940370Z",
     "iopub.status.busy": "2021-12-22T02:11:34.939481Z",
     "iopub.status.idle": "2021-12-22T02:11:34.942677Z",
     "shell.execute_reply": "2021-12-22T02:11:34.943182Z",
     "shell.execute_reply.started": "2021-12-21T04:43:34.490592Z"
    },
    "papermill": {
     "duration": 0.059755,
     "end_time": "2021-12-22T02:11:34.943348",
     "exception": false,
     "start_time": "2021-12-22T02:11:34.883593",
     "status": "completed"
    },
    "tags": []
   },
   "outputs": [
    {
     "data": {
      "text/plain": [
       "Ttest_relResult(statistic=-5.423594165017478e-16, pvalue=0.9999999999999996)"
      ]
     },
     "execution_count": 13,
     "metadata": {},
     "output_type": "execute_result"
    }
   ],
   "source": [
    "\n",
    "stats.ttest_rel(model_diff['young'], model_diff['old'])"
   ]
  },
  {
   "cell_type": "markdown",
   "id": "584d5fe2",
   "metadata": {
    "papermill": {
     "duration": 0.045787,
     "end_time": "2021-12-22T02:11:35.035201",
     "exception": false,
     "start_time": "2021-12-22T02:11:34.989414",
     "status": "completed"
    },
    "tags": []
   },
   "source": [
    "##### Conclusion:\n",
    "p Value is very high and hence we know that the models are not very different and hence we do not need to split and build different for younger and older individuals"
   ]
  },
  {
   "cell_type": "markdown",
   "id": "65504e9d",
   "metadata": {
    "execution": {
     "iopub.execute_input": "2021-12-19T18:55:26.378047Z",
     "iopub.status.busy": "2021-12-19T18:55:26.377259Z",
     "iopub.status.idle": "2021-12-19T18:55:26.384071Z",
     "shell.execute_reply": "2021-12-19T18:55:26.382926Z",
     "shell.execute_reply.started": "2021-12-19T18:55:26.378009Z"
    },
    "papermill": {
     "duration": 0.047306,
     "end_time": "2021-12-22T02:11:35.128713",
     "exception": false,
     "start_time": "2021-12-22T02:11:35.081407",
     "status": "completed"
    },
    "tags": []
   },
   "source": [
    "### Q3 - Does it make sense to have different models for female individuals vs male individuals?\n",
    "1. Splitting the data for male and female.\n",
    "2. Build different models for the datasets\n",
    "3. Compare feature importances in the resultant models using paired t-test\n",
    "(If the feature importances differ for female and male individuals we need different models)"
   ]
  },
  {
   "cell_type": "code",
   "execution_count": 14,
   "id": "6d969a3f",
   "metadata": {
    "execution": {
     "iopub.execute_input": "2021-12-22T02:11:35.226980Z",
     "iopub.status.busy": "2021-12-22T02:11:35.225983Z",
     "iopub.status.idle": "2021-12-22T02:11:37.230998Z",
     "shell.execute_reply": "2021-12-22T02:11:37.231518Z",
     "shell.execute_reply.started": "2021-12-21T04:43:34.502592Z"
    },
    "papermill": {
     "duration": 2.055313,
     "end_time": "2021-12-22T02:11:37.231687",
     "exception": false,
     "start_time": "2021-12-22T02:11:35.176374",
     "status": "completed"
    },
    "tags": []
   },
   "outputs": [
    {
     "data": {
      "image/png": "[encoded data removed]",
      "text/plain": [
       "<Figure size 2160x720 with 2 Axes>"
      ]
     },
     "metadata": {
      "needs_background": "light"
     },
     "output_type": "display_data"
    }
   ],
   "source": [
    "\n",
    "\n",
    "clf_male = DecisionTreeClassifier(random_state=0)\n",
    "clf_female = DecisionTreeClassifier(random_state=0)\n",
    "\n",
    "#Data split to build two different models\n",
    "col_name = 'Sex'\n",
    "cur_feats = [col for col in feats if col!=col_name]\n",
    "X_female = X[X[col_name]==0][cur_feats]\n",
    "y_female = y[X[col_name]==0]\n",
    "X_male = X[X[col_name]==1][cur_feats]\n",
    "y_male = y[X[col_name]==1]\n",
    "#Data Frame with feature importance results\n",
    "model_diff=pd.DataFrame()\n",
    "\n",
    "fig,ax=plt.subplots(1,2,figsize=(30,10))\n",
    "#Model for female\n",
    "clf_female.fit(X_female,y_female)\n",
    "feat_imp_female=pd.Series(clf_female.feature_importances_)\n",
    "model_diff['female'] = feat_imp_female\n",
    "feat_imp_female.index=cur_feats\n",
    "feat_imp_female = feat_imp_female.sort_values(ascending=False)\n",
    "#Plotting feature importances\n",
    "sns.barplot(y=feat_imp_female.index,x=feat_imp_female,ax=ax[0])\n",
    "\n",
    "#Model for male\n",
    "clf_male.fit(X_male,y_male)\n",
    "feat_imp_male=pd.Series(clf_male.feature_importances_)\n",
    "model_diff['male'] = feat_imp_male\n",
    "feat_imp_male.index=cur_feats\n",
    "feat_imp_male = feat_imp_male.sort_values(ascending=False)\n",
    "#plotting feat importances\n",
    "sns.barplot(y=feat_imp_male.index,x=feat_imp_male,ax=ax[1])\n",
    "\n",
    "model_diff.index=cur_feats"
   ]
  },
  {
   "cell_type": "code",
   "execution_count": 15,
   "id": "4da27827",
   "metadata": {
    "execution": {
     "iopub.execute_input": "2021-12-22T02:11:37.332185Z",
     "iopub.status.busy": "2021-12-22T02:11:37.331168Z",
     "iopub.status.idle": "2021-12-22T02:11:37.337392Z",
     "shell.execute_reply": "2021-12-22T02:11:37.337838Z",
     "shell.execute_reply.started": "2021-12-21T04:43:36.408232Z"
    },
    "papermill": {
     "duration": 0.058748,
     "end_time": "2021-12-22T02:11:37.338009",
     "exception": false,
     "start_time": "2021-12-22T02:11:37.279261",
     "status": "completed"
    },
    "tags": []
   },
   "outputs": [
    {
     "data": {
      "text/plain": [
       "Ttest_relResult(statistic=-4.814756698945561e-15, pvalue=0.9999999999999962)"
      ]
     },
     "execution_count": 15,
     "metadata": {},
     "output_type": "execute_result"
    }
   ],
   "source": [
    "\n",
    "stats.ttest_rel(model_diff['female'], model_diff['male'])"
   ]
  },
  {
   "cell_type": "markdown",
   "id": "25d7178c",
   "metadata": {
    "papermill": {
     "duration": 0.048325,
     "end_time": "2021-12-22T02:11:37.436163",
     "exception": false,
     "start_time": "2021-12-22T02:11:37.387838",
     "status": "completed"
    },
    "tags": []
   },
   "source": [
    "### Q4 - Does it make sense to have different models for Smoker individuals vs Non-Smoker individuals?\n",
    "1. Splitting the data for male and female.\n",
    "2. Build different models for the datasets\n",
    "3. Compare feature importances in the resultant models using paired t-test\n",
    "(If the feature importances differ for female and male individuals we need different models)"
   ]
  },
  {
   "cell_type": "code",
   "execution_count": 16,
   "id": "709152b9",
   "metadata": {
    "execution": {
     "iopub.execute_input": "2021-12-22T02:11:37.536378Z",
     "iopub.status.busy": "2021-12-22T02:11:37.535347Z",
     "iopub.status.idle": "2021-12-22T02:11:39.695485Z",
     "shell.execute_reply": "2021-12-22T02:11:39.696030Z",
     "shell.execute_reply.started": "2021-12-21T04:43:36.417635Z"
    },
    "papermill": {
     "duration": 2.211976,
     "end_time": "2021-12-22T02:11:39.696202",
     "exception": false,
     "start_time": "2021-12-22T02:11:37.484226",
     "status": "completed"
    },
    "tags": []
   },
   "outputs": [
    {
     "data": {
      "text/plain": [
       "Ttest_relResult(statistic=-2.006351248654122e-15, pvalue=0.9999999999999984)"
      ]
     },
     "execution_count": 16,
     "metadata": {},
     "output_type": "execute_result"
    },
    {
     "data": {
      "image/png": "[encoded data removed]",
      "text/plain": [
       "<Figure size 2160x720 with 2 Axes>"
      ]
     },
     "metadata": {
      "needs_background": "light"
     },
     "output_type": "display_data"
    }
   ],
   "source": [
    "\n",
    "\n",
    "clf_male = DecisionTreeClassifier(random_state=0)\n",
    "clf_female = DecisionTreeClassifier(random_state=0)\n",
    "\n",
    "#Data split to build two different models\n",
    "col_name = 'Smoker'\n",
    "cur_feats = [col for col in feats if col!=col_name]\n",
    "X_female = X[X[col_name]==0][cur_feats]\n",
    "y_female = y[X[col_name]==0]\n",
    "X_male = X[X[col_name]==1][cur_feats]\n",
    "y_male = y[X[col_name]==1]\n",
    "#Data Frame with feature importance results\n",
    "model_diff=pd.DataFrame()\n",
    "\n",
    "fig,ax=plt.subplots(1,2,figsize=(30,10))\n",
    "#Model for female\n",
    "clf_female.fit(X_female,y_female)\n",
    "feat_imp_female=pd.Series(clf_female.feature_importances_)\n",
    "model_diff['non_smoker'] = feat_imp_female\n",
    "feat_imp_female.index=cur_feats\n",
    "feat_imp_female = feat_imp_female.sort_values(ascending=False)\n",
    "#Plotting feature importances\n",
    "sns.barplot(y=feat_imp_female.index,x=feat_imp_female,ax=ax[0])\n",
    "\n",
    "#Model for male\n",
    "clf_male.fit(X_male,y_male)\n",
    "feat_imp_male=pd.Series(clf_male.feature_importances_)\n",
    "model_diff['smoker'] = feat_imp_male\n",
    "feat_imp_male.index=cur_feats\n",
    "feat_imp_male = feat_imp_male.sort_values(ascending=False)\n",
    "#plotting feat importances\n",
    "sns.barplot(y=feat_imp_male.index,x=feat_imp_male,ax=ax[1])\n",
    "\n",
    "model_diff.index=cur_feats\n",
    "\n",
    "stats.ttest_rel(model_diff['non_smoker'], model_diff['smoker'])"
   ]
  },
  {
   "cell_type": "code",
   "execution_count": 17,
   "id": "b274ffd2",
   "metadata": {
    "execution": {
     "iopub.execute_input": "2021-12-22T02:11:39.811827Z",
     "iopub.status.busy": "2021-12-22T02:11:39.799666Z",
     "iopub.status.idle": "2021-12-22T02:11:39.846654Z",
     "shell.execute_reply": "2021-12-22T02:11:39.846081Z",
     "shell.execute_reply.started": "2021-12-21T04:43:38.500671Z"
    },
    "papermill": {
     "duration": 0.101008,
     "end_time": "2021-12-22T02:11:39.846815",
     "exception": false,
     "start_time": "2021-12-22T02:11:39.745807",
     "status": "completed"
    },
    "tags": []
   },
   "outputs": [
    {
     "data": {
      "text/html": [
       "<div>\n",
       "<style scoped>\n",
       "    .dataframe tbody tr th:only-of-type {\n",
       "        vertical-align: middle;\n",
       "    }\n",
       "\n",
       "    .dataframe tbody tr th {\n",
       "        vertical-align: top;\n",
       "    }\n",
       "\n",
       "    .dataframe thead th {\n",
       "        text-align: right;\n",
       "    }\n",
       "</style>\n",
       "<table border=\"1\" class=\"dataframe\">\n",
       "  <thead>\n",
       "    <tr style=\"text-align: right;\">\n",
       "      <th></th>\n",
       "      <th>HighBP</th>\n",
       "      <th>HighChol</th>\n",
       "      <th>CholCheck</th>\n",
       "      <th>BMI</th>\n",
       "      <th>Smoker</th>\n",
       "      <th>Stroke</th>\n",
       "      <th>HeartDiseaseorAttack</th>\n",
       "      <th>PhysActivity</th>\n",
       "      <th>Fruits</th>\n",
       "      <th>Veggies</th>\n",
       "      <th>HvyAlcoholConsump</th>\n",
       "      <th>AnyHealthcare</th>\n",
       "      <th>GenHlth</th>\n",
       "      <th>MentHlth</th>\n",
       "      <th>PhysHlth</th>\n",
       "      <th>DiffWalk</th>\n",
       "      <th>Sex</th>\n",
       "      <th>Age</th>\n",
       "      <th>Education</th>\n",
       "      <th>Income</th>\n",
       "    </tr>\n",
       "    <tr>\n",
       "      <th>NoDocbcCost</th>\n",
       "      <th></th>\n",
       "      <th></th>\n",
       "      <th></th>\n",
       "      <th></th>\n",
       "      <th></th>\n",
       "      <th></th>\n",
       "      <th></th>\n",
       "      <th></th>\n",
       "      <th></th>\n",
       "      <th></th>\n",
       "      <th></th>\n",
       "      <th></th>\n",
       "      <th></th>\n",
       "      <th></th>\n",
       "      <th></th>\n",
       "      <th></th>\n",
       "      <th></th>\n",
       "      <th></th>\n",
       "      <th></th>\n",
       "      <th></th>\n",
       "    </tr>\n",
       "  </thead>\n",
       "  <tbody>\n",
       "    <tr>\n",
       "      <th>0.0</th>\n",
       "      <td>232326</td>\n",
       "      <td>232326</td>\n",
       "      <td>232326</td>\n",
       "      <td>232326</td>\n",
       "      <td>232326</td>\n",
       "      <td>232326</td>\n",
       "      <td>232326</td>\n",
       "      <td>232326</td>\n",
       "      <td>232326</td>\n",
       "      <td>232326</td>\n",
       "      <td>232326</td>\n",
       "      <td>232326</td>\n",
       "      <td>232326</td>\n",
       "      <td>232326</td>\n",
       "      <td>232326</td>\n",
       "      <td>232326</td>\n",
       "      <td>232326</td>\n",
       "      <td>232326</td>\n",
       "      <td>232326</td>\n",
       "      <td>232326</td>\n",
       "    </tr>\n",
       "    <tr>\n",
       "      <th>1.0</th>\n",
       "      <td>21354</td>\n",
       "      <td>21354</td>\n",
       "      <td>21354</td>\n",
       "      <td>21354</td>\n",
       "      <td>21354</td>\n",
       "      <td>21354</td>\n",
       "      <td>21354</td>\n",
       "      <td>21354</td>\n",
       "      <td>21354</td>\n",
       "      <td>21354</td>\n",
       "      <td>21354</td>\n",
       "      <td>21354</td>\n",
       "      <td>21354</td>\n",
       "      <td>21354</td>\n",
       "      <td>21354</td>\n",
       "      <td>21354</td>\n",
       "      <td>21354</td>\n",
       "      <td>21354</td>\n",
       "      <td>21354</td>\n",
       "      <td>21354</td>\n",
       "    </tr>\n",
       "  </tbody>\n",
       "</table>\n",
       "</div>"
      ],
      "text/plain": [
       "             HighBP  HighChol  CholCheck     BMI  Smoker  Stroke  \\\n",
       "NoDocbcCost                                                        \n",
       "0.0          232326    232326     232326  232326  232326  232326   \n",
       "1.0           21354     21354      21354   21354   21354   21354   \n",
       "\n",
       "             HeartDiseaseorAttack  PhysActivity  Fruits  Veggies  \\\n",
       "NoDocbcCost                                                        \n",
       "0.0                        232326        232326  232326   232326   \n",
       "1.0                         21354         21354   21354    21354   \n",
       "\n",
       "             HvyAlcoholConsump  AnyHealthcare  GenHlth  MentHlth  PhysHlth  \\\n",
       "NoDocbcCost                                                                  \n",
       "0.0                     232326         232326   232326    232326    232326   \n",
       "1.0                      21354          21354    21354     21354     21354   \n",
       "\n",
       "             DiffWalk     Sex     Age  Education  Income  \n",
       "NoDocbcCost                                               \n",
       "0.0            232326  232326  232326     232326  232326  \n",
       "1.0             21354   21354   21354      21354   21354  "
      ]
     },
     "execution_count": 17,
     "metadata": {},
     "output_type": "execute_result"
    }
   ],
   "source": [
    "X.groupby(['NoDocbcCost']).count()"
   ]
  },
  {
   "cell_type": "markdown",
   "id": "e8ad0361",
   "metadata": {
    "papermill": {
     "duration": 0.051975,
     "end_time": "2021-12-22T02:11:39.950365",
     "exception": false,
     "start_time": "2021-12-22T02:11:39.898390",
     "status": "completed"
    },
    "tags": []
   },
   "source": [
    "### Q3 - Does it make sense to have different models for NoDoctorBcos Of Cost individuals vs No Cost Problem individuals?\n",
    "1. Splitting the data for male and female.\n",
    "2. Build different models for the datasets\n",
    "3. Compare feature importances in the resultant models using paired t-test\n",
    "(If the feature importances differ for female and male individuals we need different models)"
   ]
  },
  {
   "cell_type": "code",
   "execution_count": 18,
   "id": "bd78414a",
   "metadata": {
    "execution": {
     "iopub.execute_input": "2021-12-22T02:11:40.063059Z",
     "iopub.status.busy": "2021-12-22T02:11:40.061944Z",
     "iopub.status.idle": "2021-12-22T02:11:42.191295Z",
     "shell.execute_reply": "2021-12-22T02:11:42.191932Z",
     "shell.execute_reply.started": "2021-12-21T04:43:38.546745Z"
    },
    "papermill": {
     "duration": 2.190396,
     "end_time": "2021-12-22T02:11:42.192124",
     "exception": false,
     "start_time": "2021-12-22T02:11:40.001728",
     "status": "completed"
    },
    "tags": []
   },
   "outputs": [
    {
     "data": {
      "text/plain": [
       "Ttest_relResult(statistic=0.0, pvalue=1.0)"
      ]
     },
     "execution_count": 18,
     "metadata": {},
     "output_type": "execute_result"
    },
    {
     "data": {
      "image/png": "[encoded data removed]",
      "text/plain": [
       "<Figure size 2160x720 with 2 Axes>"
      ]
     },
     "metadata": {
      "needs_background": "light"
     },
     "output_type": "display_data"
    }
   ],
   "source": [
    "\n",
    "\n",
    "clf_male = DecisionTreeClassifier(random_state=0)\n",
    "clf_female = DecisionTreeClassifier(random_state=0)\n",
    "\n",
    "#Data split to build two different models\n",
    "col_name = 'NoDocbcCost'\n",
    "cur_feats = [col for col in feats if col!=col_name]\n",
    "X_female = X[X[col_name]==0][cur_feats]\n",
    "y_female = y[X[col_name]==0]\n",
    "X_male = X[X[col_name]==1][cur_feats]\n",
    "y_male = y[X[col_name]==1]\n",
    "#Data Frame with feature importance results\n",
    "model_diff=pd.DataFrame()\n",
    "\n",
    "fig,ax=plt.subplots(1,2,figsize=(30,10))\n",
    "#Model for female\n",
    "clf_female.fit(X_female,y_female)\n",
    "feat_imp_female=pd.Series(clf_female.feature_importances_)\n",
    "model_diff['costProb'] = feat_imp_female\n",
    "feat_imp_female.index=cur_feats\n",
    "feat_imp_female = feat_imp_female.sort_values(ascending=False)\n",
    "#Plotting feature importances\n",
    "sns.barplot(y=feat_imp_female.index,x=feat_imp_female,ax=ax[0])\n",
    "\n",
    "#Model for male\n",
    "clf_male.fit(X_male,y_male)\n",
    "feat_imp_male=pd.Series(clf_male.feature_importances_)\n",
    "model_diff['noCostProb'] = feat_imp_male\n",
    "feat_imp_male.index=cur_feats\n",
    "feat_imp_male = feat_imp_male.sort_values(ascending=False)\n",
    "#plotting feat importances\n",
    "sns.barplot(y=feat_imp_male.index,x=feat_imp_male,ax=ax[1])\n",
    "\n",
    "model_diff.index=cur_feats\n",
    "\n",
    "stats.ttest_rel(model_diff['costProb'], model_diff['noCostProb'])"
   ]
  },
  {
   "cell_type": "markdown",
   "id": "c44dd3c7",
   "metadata": {
    "papermill": {
     "duration": 0.052458,
     "end_time": "2021-12-22T02:11:42.297209",
     "exception": false,
     "start_time": "2021-12-22T02:11:42.244751",
     "status": "completed"
    },
    "tags": []
   },
   "source": [
    "# Data Prep\n",
    "Using Random Forest\n",
    "1. Perform classification with PCA\n",
    "2. Perform calssification without PCA"
   ]
  },
  {
   "cell_type": "code",
   "execution_count": 19,
   "id": "e97d37f5",
   "metadata": {
    "execution": {
     "iopub.execute_input": "2021-12-22T02:11:42.407093Z",
     "iopub.status.busy": "2021-12-22T02:11:42.406388Z",
     "iopub.status.idle": "2021-12-22T02:11:42.606176Z",
     "shell.execute_reply": "2021-12-22T02:11:42.605478Z",
     "shell.execute_reply.started": "2021-12-21T22:31:18.319394Z"
    },
    "papermill": {
     "duration": 0.256014,
     "end_time": "2021-12-22T02:11:42.606320",
     "exception": false,
     "start_time": "2021-12-22T02:11:42.350306",
     "status": "completed"
    },
    "tags": []
   },
   "outputs": [],
   "source": [
    "#Split into Train and Test\n",
    "X_train, X_test, y_train, y_test = train_test_split(X, y, test_size=0.33, random_state=42)\n",
    "# Split train into train and CV\n",
    "X_train, X_cv, y_train, y_cv = train_test_split(X_train, y_train, test_size=0.33, random_state=42)\n",
    "#Oversample data\n",
    "oversample = RandomOverSampler(sampling_strategy=0.5)\n",
    "X_over, y_over = oversample.fit_resample(X_train, y_train)"
   ]
  },
  {
   "cell_type": "code",
   "execution_count": 20,
   "id": "55452594",
   "metadata": {
    "execution": {
     "iopub.execute_input": "2021-12-22T02:11:42.715291Z",
     "iopub.status.busy": "2021-12-22T02:11:42.714533Z",
     "iopub.status.idle": "2021-12-22T02:11:43.019903Z",
     "shell.execute_reply": "2021-12-22T02:11:43.020848Z",
     "shell.execute_reply.started": "2021-12-21T22:31:20.607639Z"
    },
    "papermill": {
     "duration": 0.361947,
     "end_time": "2021-12-22T02:11:43.021157",
     "exception": false,
     "start_time": "2021-12-22T02:11:42.659210",
     "status": "completed"
    },
    "tags": []
   },
   "outputs": [],
   "source": [
    "#Scaling Data - Standard Sclaer before PCA\n",
    "scaler = StandardScaler()\n",
    "scaler.fit(X_train)\n",
    "X_train_std = scaler.transform(X_train)\n",
    "X_test_std = scaler.transform(X_test)\n",
    "\n",
    "#Performing PCA where we just pick the features that cover 85% of the variance\n",
    "pca = PCA(n_components=0.85)\n",
    "pca.fit(X_train_std)\n",
    "len(pca.components_)\n",
    "X_train_std_pca = pca.transform(X_train_std)\n",
    "X_test_std_pca = pca.transform(X_test_std)\n",
    "\n",
    "X_over_pca, y_over_pca = oversample.fit_resample(X_train_std_pca, y_train)"
   ]
  },
  {
   "cell_type": "markdown",
   "id": "ed3ff201",
   "metadata": {
    "papermill": {
     "duration": 0.051901,
     "end_time": "2021-12-22T02:11:43.134250",
     "exception": false,
     "start_time": "2021-12-22T02:11:43.082349",
     "status": "completed"
    },
    "tags": []
   },
   "source": [
    "# Feature Importance"
   ]
  },
  {
   "cell_type": "code",
   "execution_count": 21,
   "id": "f7b88429",
   "metadata": {
    "execution": {
     "iopub.execute_input": "2021-12-22T02:11:43.248275Z",
     "iopub.status.busy": "2021-12-22T02:11:43.247531Z",
     "iopub.status.idle": "2021-12-22T02:14:49.129560Z",
     "shell.execute_reply": "2021-12-22T02:14:49.128747Z",
     "shell.execute_reply.started": "2021-12-21T04:43:41.04846Z"
    },
    "papermill": {
     "duration": 185.943052,
     "end_time": "2021-12-22T02:14:49.129724",
     "exception": false,
     "start_time": "2021-12-22T02:11:43.186672",
     "status": "completed"
    },
    "tags": []
   },
   "outputs": [
    {
     "name": "stdout",
     "output_type": "stream",
     "text": [
      "Esimators : 50, min_samples_split : 40,min_samples_leaf: 10\n",
      "CV Score - 0.8182003327907837\n",
      "Train Score - 0.8546437756735128\n",
      "Esimators : 50, min_samples_split : 40,min_samples_leaf: 20\n",
      "CV Score - 0.8144340294696778\n",
      "Train Score - 0.8416189919297549\n",
      "Esimators : 50, min_samples_split : 50,min_samples_leaf: 10\n",
      "CV Score - 0.8160714261833704\n",
      "Train Score - 0.8496689672584709\n",
      "Esimators : 50, min_samples_split : 50,min_samples_leaf: 20\n",
      "CV Score - 0.8153765246155346\n",
      "Train Score - 0.8404977402031811\n",
      "Esimators : 100, min_samples_split : 40,min_samples_leaf: 10\n",
      "CV Score - 0.8188852463434139\n",
      "Train Score - 0.856654597046605\n",
      "Esimators : 100, min_samples_split : 40,min_samples_leaf: 20\n",
      "CV Score - 0.8150219415862664\n",
      "Train Score - 0.8424092361761644\n",
      "Esimators : 100, min_samples_split : 50,min_samples_leaf: 10\n",
      "CV Score - 0.8180171432400676\n",
      "Train Score - 0.85082750758946\n",
      "Esimators : 100, min_samples_split : 50,min_samples_leaf: 20\n",
      "CV Score - 0.8156434912702656\n",
      "Train Score - 0.8408713283510675\n",
      "Esimators : 150, min_samples_split : 40,min_samples_leaf: 10\n",
      "CV Score - 0.8186875006876415\n",
      "Train Score - 0.8562244346002366\n",
      "Esimators : 150, min_samples_split : 40,min_samples_leaf: 20\n",
      "CV Score - 0.8159524667487041\n",
      "Train Score - 0.8428041617233502\n",
      "Esimators : 150, min_samples_split : 50,min_samples_leaf: 10\n",
      "CV Score - 0.8171292968330885\n",
      "Train Score - 0.8508418843714873\n",
      "Esimators : 150, min_samples_split : 50,min_samples_leaf: 20\n",
      "CV Score - 0.8150811743887251\n",
      "Train Score - 0.8411314724267933\n"
     ]
    },
    {
     "data": {
      "text/plain": [
       "<AxesSubplot:>"
      ]
     },
     "execution_count": 21,
     "metadata": {},
     "output_type": "execute_result"
    },
    {
     "data": {
      "image/png": "[encoded data removed]",
      "text/plain": [
       "<Figure size 432x288 with 1 Axes>"
      ]
     },
     "metadata": {
      "needs_background": "light"
     },
     "output_type": "display_data"
    }
   ],
   "source": [
    "feat_imp=np.zeros(len(feats))\n",
    "\n",
    "cnt=0\n",
    "for n in range(50,200,50):\n",
    "#     for d in range(5,20,5):\n",
    "            for m in range(40,60,10):\n",
    "                    for m2 in range(10,30,10):\n",
    "                        clf = RandomForestClassifier(n_estimators = n,min_samples_split=m,min_samples_leaf=m2)\n",
    "                        clf.fit(X_over,y_over)\n",
    "                        print(f'Esimators : {n}, min_samples_split : {m},min_samples_leaf: {m2}')\n",
    "                        print(f'CV Score - {f1_score(clf.predict(X_cv),y_cv,average=\"weighted\")}')\n",
    "                        print(f'Train Score - {f1_score(clf.predict(X_train),y_train,average=\"weighted\")}')\n",
    "                        feat_imp = feat_imp+clf.feature_importances_\n",
    "                        cnt=cnt+1\n",
    "feat_imp = feat_imp/cnt\n",
    "feat_imp=pd.Series(feat_imp)\n",
    "\n",
    "#plotting feat importances\n",
    "feat_imp.index=feats\n",
    "feat_imp = feat_imp.sort_values(ascending=False)\n",
    "sns.barplot(y=feat_imp.index,x=feat_imp)\n",
    "\n"
   ]
  },
  {
   "cell_type": "markdown",
   "id": "3cdf16a9",
   "metadata": {
    "papermill": {
     "duration": 0.067372,
     "end_time": "2021-12-22T02:14:49.261874",
     "exception": false,
     "start_time": "2021-12-22T02:14:49.194502",
     "status": "completed"
    },
    "tags": []
   },
   "source": [
    "# Possible Feature Elmination"
   ]
  },
  {
   "cell_type": "code",
   "execution_count": 22,
   "id": "09968cdc",
   "metadata": {
    "execution": {
     "iopub.execute_input": "2021-12-22T02:14:49.394303Z",
     "iopub.status.busy": "2021-12-22T02:14:49.393563Z",
     "iopub.status.idle": "2021-12-22T02:14:49.717587Z",
     "shell.execute_reply": "2021-12-22T02:14:49.718167Z",
     "shell.execute_reply.started": "2021-12-21T21:05:21.826241Z"
    },
    "papermill": {
     "duration": 0.391774,
     "end_time": "2021-12-22T02:14:49.718348",
     "exception": false,
     "start_time": "2021-12-22T02:14:49.326574",
     "status": "completed"
    },
    "tags": []
   },
   "outputs": [],
   "source": [
    "A = X.copy()\n",
    "A['Food'] = A['Fruits']+A['Veggies']\n",
    "A.drop(columns=['Fruits','Veggies'],inplace=True)\n",
    "A['lifeStyle'] = A['Smoker']+A['HvyAlcoholConsump']\n",
    "A.drop(columns=['Smoker','HvyAlcoholConsump'],inplace=True)\n",
    "A.drop(columns=['CholCheck','NoDocbcCost','AnyHealthcare'],inplace=True)\n",
    "\n",
    "\n",
    "A_train,A_test,Ay_train,Ay_test = train_test_split(A,y,test_size=0.33,random_state=0)\n",
    "A_over, Ay_over = oversample.fit_resample(A_train, Ay_train)"
   ]
  },
  {
   "cell_type": "markdown",
   "id": "75b435c0",
   "metadata": {
    "papermill": {
     "duration": 0.064636,
     "end_time": "2021-12-22T02:14:49.847217",
     "exception": false,
     "start_time": "2021-12-22T02:14:49.782581",
     "status": "completed"
    },
    "tags": []
   },
   "source": [
    "# Modeling"
   ]
  },
  {
   "cell_type": "markdown",
   "id": "5e3ae656",
   "metadata": {
    "papermill": {
     "duration": 0.06453,
     "end_time": "2021-12-22T02:14:49.976151",
     "exception": false,
     "start_time": "2021-12-22T02:14:49.911621",
     "status": "completed"
    },
    "tags": []
   },
   "source": [
    "### Baseline Model"
   ]
  },
  {
   "cell_type": "code",
   "execution_count": 23,
   "id": "d581e652",
   "metadata": {
    "execution": {
     "iopub.execute_input": "2021-12-22T02:14:50.108277Z",
     "iopub.status.busy": "2021-12-22T02:14:50.107602Z",
     "iopub.status.idle": "2021-12-22T02:14:50.450836Z",
     "shell.execute_reply": "2021-12-22T02:14:50.451559Z",
     "shell.execute_reply.started": "2021-12-21T21:21:30.001672Z"
    },
    "papermill": {
     "duration": 0.410916,
     "end_time": "2021-12-22T02:14:50.451814",
     "exception": false,
     "start_time": "2021-12-22T02:14:50.040898",
     "status": "completed"
    },
    "tags": []
   },
   "outputs": [
    {
     "name": "stdout",
     "output_type": "stream",
     "text": [
      "Test Score - 0.0\n",
      "Train Score - 0.0\n",
      "Test Score - 0.8621513468315116\n",
      "Train Score - 0.8598387719976114\n",
      "Test Score - 0.0\n",
      "Train Score - 0.0\n",
      "Test Score - 0.0\n",
      "Train Score - 0.0\n"
     ]
    }
   ],
   "source": [
    "from sklearn.dummy import DummyClassifier\n",
    "dummy_clf = DummyClassifier(strategy=\"most_frequent\")\n",
    "dummy_clf.fit(X_train, y_train)\n",
    "\n",
    "print(f'Test Score - {f1_score(dummy_clf.predict(X_test),y_test)}')\n",
    "print(f'Train Score - {f1_score(dummy_clf.predict(X_train),y_train)}')\n",
    "\n",
    "print(f'Test Score - {accuracy_score(dummy_clf.predict(X_test),y_test)}')\n",
    "print(f'Train Score - {accuracy_score(dummy_clf.predict(X_train),y_train)}')\n",
    "\n",
    "print(f'Test Score - {precision_score(dummy_clf.predict(X_test),y_test)}')\n",
    "print(f'Train Score - {precision_score(dummy_clf.predict(X_train),y_train)}')\n",
    "print(f'Test Score - {recall_score(dummy_clf.predict(X_test),y_test)}')\n",
    "print(f'Train Score - {recall_score(dummy_clf.predict(X_train),y_train)}')"
   ]
  },
  {
   "cell_type": "markdown",
   "id": "d8be8e09",
   "metadata": {
    "papermill": {
     "duration": 0.06732,
     "end_time": "2021-12-22T02:14:50.586284",
     "exception": false,
     "start_time": "2021-12-22T02:14:50.518964",
     "status": "completed"
    },
    "tags": []
   },
   "source": [
    "## Impact of OverSampling the data for imbalanced classification problems\n",
    "## Impact of PCA on the data like this which is mostly categorical"
   ]
  },
  {
   "cell_type": "code",
   "execution_count": 24,
   "id": "81f1fdbb",
   "metadata": {
    "execution": {
     "iopub.execute_input": "2021-12-22T02:14:50.728610Z",
     "iopub.status.busy": "2021-12-22T02:14:50.727881Z",
     "iopub.status.idle": "2021-12-22T02:14:58.290302Z",
     "shell.execute_reply": "2021-12-22T02:14:58.291207Z",
     "shell.execute_reply.started": "2021-12-21T21:07:05.373991Z"
    },
    "papermill": {
     "duration": 7.639868,
     "end_time": "2021-12-22T02:14:58.291456",
     "exception": false,
     "start_time": "2021-12-22T02:14:50.651588",
     "status": "completed"
    },
    "tags": []
   },
   "outputs": [
    {
     "name": "stdout",
     "output_type": "stream",
     "text": [
      "Logistic Regression Classification\n",
      "--------------------------------------------------------------\n",
      "Imbalanced\n",
      "Test Score - 0.24119659266215038\n",
      "Train Score - 0.2402867939153183\n",
      "Oversampled\n",
      "Test Score - 0.4516706017027975\n",
      "Train Score - 0.4607753556976896\n",
      "PCA and oversampled\n",
      "Test Score - 0.4457989634279874\n",
      "Train Score - 0.45005575912059903\n",
      "Feature Selection\n",
      "Test Score - 0.45918908409629183\n",
      "Train Score - 0.5939305488685604\n"
     ]
    }
   ],
   "source": [
    "print('Logistic Regression Classification')\n",
    "print('--------------------------------------------------------------')\n",
    "#Decision Tree as a model slightly better than baseline\n",
    "print('Imbalanced')\n",
    "clf = LogisticRegression(solver='liblinear')\n",
    "clf.fit(X_train,y_train)\n",
    "print(f'Test Score - {f1_score(clf.predict(X_test),y_test)}')\n",
    "print(f'Train Score - {f1_score(clf.predict(X_train),y_train)}')\n",
    "\n",
    "\n",
    "\n",
    "#Comparing Decision Tree performance on imbalanced data vs Oversampled data\n",
    "print('Oversampled')\n",
    "clf = LogisticRegression(solver='liblinear')\n",
    "clf.fit(X_over,y_over)\n",
    "print(f'Test Score - {f1_score(clf.predict(X_test),y_test)}')\n",
    "print(f'Train Score - {f1_score(clf.predict(X_train),y_train)}')\n",
    "\n",
    "print('PCA and oversampled')\n",
    "clf = LogisticRegression(solver='liblinear')\n",
    "clf.fit(X_over_pca,y_over_pca)\n",
    "print(f'Test Score - {f1_score(clf.predict(X_test_std_pca),y_test)}')\n",
    "print(f'Train Score - {f1_score(clf.predict(X_train_std_pca),y_train)}')\n",
    "\n",
    "print('Feature Selection')\n",
    "clf.fit(A_over,Ay_over)\n",
    "print(f'Test Score - {f1_score(clf.predict(A_test),Ay_test)}')\n",
    "print(f'Train Score - {f1_score(clf.predict(A_over),Ay_over)}')"
   ]
  },
  {
   "cell_type": "code",
   "execution_count": 25,
   "id": "f63612c0",
   "metadata": {
    "execution": {
     "iopub.execute_input": "2021-12-22T02:14:58.434677Z",
     "iopub.status.busy": "2021-12-22T02:14:58.433892Z",
     "iopub.status.idle": "2021-12-22T02:15:06.583133Z",
     "shell.execute_reply": "2021-12-22T02:15:06.583714Z",
     "shell.execute_reply.started": "2021-12-21T21:07:41.113458Z"
    },
    "papermill": {
     "duration": 8.224528,
     "end_time": "2021-12-22T02:15:06.583887",
     "exception": false,
     "start_time": "2021-12-22T02:14:58.359359",
     "status": "completed"
    },
    "tags": []
   },
   "outputs": [
    {
     "name": "stdout",
     "output_type": "stream",
     "text": [
      "DecisionTree Classification\n",
      "--------------------------------------------------------------\n",
      "Imbalanced\n",
      "Test Score - 0.3107109693568574\n",
      "Train Score - 0.9854188506623464\n",
      "Oversampled\n",
      "Test Score - 0.2951742405430014\n",
      "Train Score - 0.9835567138247704\n",
      "PCA and oversampled\n",
      "Test Score - 0.28945497134730414\n",
      "Train Score - 0.9836350650560507\n",
      "Feature Selection\n",
      "Test Score - 0.2971884248602433\n",
      "Train Score - 0.9898497545832682\n"
     ]
    }
   ],
   "source": [
    "print('DecisionTree Classification')\n",
    "print('--------------------------------------------------------------')\n",
    "\n",
    "#Decision Tree as a model slightly better than baseline\n",
    "print('Imbalanced')\n",
    "clf = DecisionTreeClassifier()\n",
    "clf.fit(X_train,y_train)\n",
    "print(f'Test Score - {f1_score(clf.predict(X_test),y_test)}')\n",
    "print(f'Train Score - {f1_score(clf.predict(X_train),y_train)}')\n",
    "\n",
    "#Comparing Decision Tree performance on imbalanced data vs Oversampled data\n",
    "print('Oversampled')\n",
    "clf = DecisionTreeClassifier()\n",
    "clf.fit(X_over,y_over)\n",
    "print(f'Test Score - {f1_score(clf.predict(X_test),y_test)}')\n",
    "print(f'Train Score - {f1_score(clf.predict(X_train),y_train)}')\n",
    "\n",
    "print('PCA and oversampled')\n",
    "clf.fit(X_over_pca,y_over_pca)\n",
    "print(f'Test Score - {f1_score(clf.predict(X_test_std_pca),y_test)}')\n",
    "print(f'Train Score - {f1_score(clf.predict(X_train_std_pca),y_train)}')\n",
    "\n",
    "print('Feature Selection')\n",
    "clf.fit(A_over,Ay_over)\n",
    "print(f'Test Score - {f1_score(clf.predict(A_test),Ay_test)}')\n",
    "print(f'Train Score - {f1_score(clf.predict(A_over),Ay_over)}')"
   ]
  },
  {
   "cell_type": "code",
   "execution_count": 26,
   "id": "9bb7ce97",
   "metadata": {
    "execution": {
     "iopub.execute_input": "2021-12-22T02:15:06.729571Z",
     "iopub.status.busy": "2021-12-22T02:15:06.728776Z",
     "iopub.status.idle": "2021-12-22T02:17:58.522280Z",
     "shell.execute_reply": "2021-12-22T02:17:58.521632Z",
     "shell.execute_reply.started": "2021-12-21T21:12:20.962959Z"
    },
    "papermill": {
     "duration": 171.870367,
     "end_time": "2021-12-22T02:17:58.522448",
     "exception": false,
     "start_time": "2021-12-22T02:15:06.652081",
     "status": "completed"
    },
    "tags": []
   },
   "outputs": [
    {
     "name": "stdout",
     "output_type": "stream",
     "text": [
      "RandomForestClassification\n",
      "--------------------------------------------------------------\n",
      "Imbalanced\n",
      "Test Score - 0.25009668686347813\n",
      "Train Score - 0.985297845373891\n",
      "Oversampled\n",
      "Test Score - 0.3361459043027095\n",
      "Train Score - 0.9831432821021319\n",
      "PCA and oversampled\n",
      "Test Score - 0.31577228692717974\n",
      "Train Score - 0.983048746474945\n",
      "Feature Selection\n",
      "Test Score - 0.3431307625694055\n",
      "Train Score - 0.9898544811641506\n"
     ]
    }
   ],
   "source": [
    "print('RandomForestClassification')\n",
    "print('--------------------------------------------------------------')\n",
    "\n",
    "#Is Random Forest in-general performing better\n",
    "print('Imbalanced')\n",
    "clf = RandomForestClassifier()\n",
    "clf.fit(X_train,y_train)\n",
    "print(f'Test Score - {f1_score(clf.predict(X_test),y_test)}')\n",
    "print(f'Train Score - {f1_score(clf.predict(X_train),y_train)}')\n",
    "\n",
    "#Is Random Forest in-general performing better\n",
    "print('Oversampled')\n",
    "clf = RandomForestClassifier()\n",
    "clf.fit(X_over,y_over)\n",
    "print(f'Test Score - {f1_score(clf.predict(X_test),y_test)}')\n",
    "print(f'Train Score - {f1_score(clf.predict(X_train),y_train)}')\n",
    "\n",
    "print('PCA and oversampled')\n",
    "clf.fit(X_over_pca,y_over_pca)\n",
    "print(f'Test Score - {f1_score(clf.predict(X_test_std_pca),y_test)}')\n",
    "print(f'Train Score - {f1_score(clf.predict(X_train_std_pca),y_train)}')\n",
    "\n",
    "print('Feature Selection')\n",
    "clf.fit(A_over,Ay_over)\n",
    "print(f'Test Score - {f1_score(clf.predict(A_test),Ay_test)}')\n",
    "print(f'Train Score - {f1_score(clf.predict(A_over),Ay_over)}')"
   ]
  },
  {
   "cell_type": "code",
   "execution_count": 27,
   "id": "d244ff3f",
   "metadata": {
    "execution": {
     "iopub.execute_input": "2021-12-22T02:17:58.669940Z",
     "iopub.status.busy": "2021-12-22T02:17:58.668900Z",
     "iopub.status.idle": "2021-12-22T02:18:53.695049Z",
     "shell.execute_reply": "2021-12-22T02:18:53.694483Z",
     "shell.execute_reply.started": "2021-12-21T04:46:59.003901Z"
    },
    "papermill": {
     "duration": 55.100872,
     "end_time": "2021-12-22T02:18:53.695197",
     "exception": false,
     "start_time": "2021-12-22T02:17:58.594325",
     "status": "completed"
    },
    "tags": []
   },
   "outputs": [
    {
     "name": "stdout",
     "output_type": "stream",
     "text": [
      "XGBoost Classifier\n",
      "--------------------------------------------------------------\n",
      "Imbalanced\n",
      "Test Score - 0.41241296826278245\n",
      "Train Score - 0.4540382988059047\n",
      "Oversampled\n",
      "Test Score - 0.4584204931243784\n",
      "Train Score - 0.5300227767626962\n",
      "PCA and oversampled\n",
      "Test Score - 0.016707042018210674\n",
      "Train Score - 0.017018708509354257\n",
      "Feature Selection\n",
      "Test Score - 0.4154931025266751\n",
      "Train Score - 0.6886395511921459\n"
     ]
    }
   ],
   "source": [
    "print('XGBoost Classifier')\n",
    "print('--------------------------------------------------------------')\n",
    "\n",
    "#Is Random Forest in-general performing better\n",
    "print('Imbalanced')\n",
    "model = XGBClassifier(eval_metric='auc',scale_pos_weight = (y_over.shape[0] / y.sum())-1)\n",
    "model.fit(X_over, y_over)\n",
    "print(f'Test Score - {f1_score(model.predict(X_test),y_test)}')\n",
    "print(f'Train Score - {f1_score(model.predict(X_train),y_train)}')\n",
    "\n",
    "print('Oversampled')\n",
    "model = XGBClassifier(eval_metric='auc',scale_pos_weight = (y_over.shape[0] / y.sum())-1)\n",
    "model.fit(X_train, y_train)\n",
    "print(f'Test Score - {f1_score(model.predict(X_test),y_test)}')\n",
    "print(f'Train Score - {f1_score(model.predict(X_train),y_train)}')\n",
    "\n",
    "print('PCA and oversampled')\n",
    "model.fit(X_over_pca,y_over_pca)\n",
    "print(f'Test Score - {f1_score(clf.predict(X_test_std_pca),y_test)}')\n",
    "print(f'Train Score - {f1_score(clf.predict(X_train_std_pca),y_train)}')\n",
    "\n",
    "print('Feature Selection')\n",
    "model.fit(A_over,Ay_over)\n",
    "print(f'Test Score - {f1_score(model.predict(A_test),Ay_test)}')\n",
    "print(f'Train Score - {f1_score(model.predict(A_over),Ay_over)}')"
   ]
  },
  {
   "cell_type": "markdown",
   "id": "d2d54de5",
   "metadata": {
    "papermill": {
     "duration": 0.073667,
     "end_time": "2021-12-22T02:18:53.842805",
     "exception": false,
     "start_time": "2021-12-22T02:18:53.769138",
     "status": "completed"
    },
    "tags": []
   },
   "source": [
    "### Hyper Parameter Tuning using Cross Validation data with Random Forest"
   ]
  },
  {
   "cell_type": "code",
   "execution_count": 28,
   "id": "93f916cd",
   "metadata": {
    "execution": {
     "iopub.execute_input": "2021-12-22T02:18:54.019300Z",
     "iopub.status.busy": "2021-12-22T02:18:54.017380Z",
     "iopub.status.idle": "2021-12-22T02:30:55.950065Z",
     "shell.execute_reply": "2021-12-22T02:30:55.950529Z",
     "shell.execute_reply.started": "2021-12-21T05:35:43.096894Z"
    },
    "papermill": {
     "duration": 722.033258,
     "end_time": "2021-12-22T02:30:55.950708",
     "exception": false,
     "start_time": "2021-12-22T02:18:53.917450",
     "status": "completed"
    },
    "tags": []
   },
   "outputs": [
    {
     "name": "stdout",
     "output_type": "stream",
     "text": [
      "Esimators : 50, min_samples_split : 20,min_samples_leaf: 10\n",
      "CV Score - 0.8222068865644492\n",
      "Train Score - 0.8688473330622136\n",
      "Esimators : 50, min_samples_split : 20,min_samples_leaf: 20\n",
      "CV Score - 0.8156826789108858\n",
      "Train Score - 0.8430187493511238\n",
      "Esimators : 50, min_samples_split : 20,min_samples_leaf: 30\n",
      "CV Score - 0.8132572387878656\n",
      "Train Score - 0.8332246167040444\n",
      "Esimators : 50, min_samples_split : 20,min_samples_leaf: 40\n",
      "CV Score - 0.8111964387075581\n",
      "Train Score - 0.8268709076690012\n",
      "Esimators : 50, min_samples_split : 30,min_samples_leaf: 10\n",
      "CV Score - 0.8196601199088643\n",
      "Train Score - 0.8627070654549852\n",
      "Esimators : 50, min_samples_split : 30,min_samples_leaf: 20\n",
      "CV Score - 0.8143483590680234\n",
      "Train Score - 0.8416297230016592\n",
      "Esimators : 50, min_samples_split : 30,min_samples_leaf: 30\n",
      "CV Score - 0.8121710644107223\n",
      "Train Score - 0.8315033425924901\n",
      "Esimators : 50, min_samples_split : 30,min_samples_leaf: 40\n",
      "CV Score - 0.8138875225389658\n",
      "Train Score - 0.8277040511384651\n",
      "Esimators : 50, min_samples_split : 40,min_samples_leaf: 10\n",
      "CV Score - 0.8194581682106018\n",
      "Train Score - 0.8556118527072685\n",
      "Esimators : 50, min_samples_split : 40,min_samples_leaf: 20\n",
      "CV Score - 0.8157388234840015\n",
      "Train Score - 0.8419489461060252\n",
      "Esimators : 50, min_samples_split : 40,min_samples_leaf: 30\n",
      "CV Score - 0.8127202507133516\n",
      "Train Score - 0.8315349889740165\n",
      "Esimators : 50, min_samples_split : 40,min_samples_leaf: 40\n",
      "CV Score - 0.8115643021215958\n",
      "Train Score - 0.8252992292741638\n",
      "Esimators : 50, min_samples_split : 50,min_samples_leaf: 10\n",
      "CV Score - 0.8169829907178895\n",
      "Train Score - 0.850365129273142\n",
      "Esimators : 50, min_samples_split : 50,min_samples_leaf: 20\n",
      "CV Score - 0.8158297281002072\n",
      "Train Score - 0.8404388932863491\n",
      "Esimators : 50, min_samples_split : 50,min_samples_leaf: 30\n",
      "CV Score - 0.8126297903699857\n",
      "Train Score - 0.8326438332280035\n",
      "Esimators : 50, min_samples_split : 50,min_samples_leaf: 40\n",
      "CV Score - 0.8114482095706673\n",
      "Train Score - 0.8270981959401529\n",
      "Esimators : 100, min_samples_split : 20,min_samples_leaf: 10\n",
      "CV Score - 0.8229504174064128\n",
      "Train Score - 0.8698099741445099\n",
      "Esimators : 100, min_samples_split : 20,min_samples_leaf: 20\n",
      "CV Score - 0.8142769770384396\n",
      "Train Score - 0.8418576281447088\n",
      "Esimators : 100, min_samples_split : 20,min_samples_leaf: 30\n",
      "CV Score - 0.8122078163775743\n",
      "Train Score - 0.8324242533849544\n",
      "Esimators : 100, min_samples_split : 20,min_samples_leaf: 40\n",
      "CV Score - 0.8121778989081913\n",
      "Train Score - 0.8274106838701895\n",
      "Esimators : 100, min_samples_split : 30,min_samples_leaf: 10\n",
      "CV Score - 0.8202970127613414\n",
      "Train Score - 0.8635859017530217\n",
      "Esimators : 100, min_samples_split : 30,min_samples_leaf: 20\n",
      "CV Score - 0.8160717241147682\n",
      "Train Score - 0.8425213126748039\n",
      "Esimators : 100, min_samples_split : 30,min_samples_leaf: 30\n",
      "CV Score - 0.8126608775872871\n",
      "Train Score - 0.8319356428165324\n",
      "Esimators : 100, min_samples_split : 30,min_samples_leaf: 40\n",
      "CV Score - 0.8120095711884685\n",
      "Train Score - 0.8270844703359111\n",
      "Esimators : 100, min_samples_split : 40,min_samples_leaf: 10\n",
      "CV Score - 0.8191402997706334\n",
      "Train Score - 0.8561318820223006\n",
      "Esimators : 100, min_samples_split : 40,min_samples_leaf: 20\n",
      "CV Score - 0.8140225437306443\n",
      "Train Score - 0.8423667064209697\n",
      "Esimators : 100, min_samples_split : 40,min_samples_leaf: 30\n",
      "CV Score - 0.8136729584404204\n",
      "Train Score - 0.8323864586109623\n",
      "Esimators : 100, min_samples_split : 40,min_samples_leaf: 40\n",
      "CV Score - 0.8114304552931384\n",
      "Train Score - 0.8272593182884274\n",
      "Esimators : 100, min_samples_split : 50,min_samples_leaf: 10\n",
      "CV Score - 0.8171577915184477\n",
      "Train Score - 0.8507573381598225\n",
      "Esimators : 100, min_samples_split : 50,min_samples_leaf: 20\n",
      "CV Score - 0.8156439262192613\n",
      "Train Score - 0.8415542817821239\n",
      "Esimators : 100, min_samples_split : 50,min_samples_leaf: 30\n",
      "CV Score - 0.8129228144403176\n",
      "Train Score - 0.8315515331391515\n",
      "Esimators : 100, min_samples_split : 50,min_samples_leaf: 40\n",
      "CV Score - 0.811872308456514\n",
      "Train Score - 0.8267980763520019\n",
      "Esimators : 150, min_samples_split : 20,min_samples_leaf: 10\n",
      "CV Score - 0.8222057295110794\n",
      "Train Score - 0.8704231391931981\n",
      "Esimators : 150, min_samples_split : 20,min_samples_leaf: 20\n",
      "CV Score - 0.8156131749164625\n",
      "Train Score - 0.8420380959584436\n",
      "Esimators : 150, min_samples_split : 20,min_samples_leaf: 30\n",
      "CV Score - 0.8138296684402648\n",
      "Train Score - 0.8328083597095467\n",
      "Esimators : 150, min_samples_split : 20,min_samples_leaf: 40\n",
      "CV Score - 0.811818339026486\n",
      "Train Score - 0.8270711927257763\n",
      "Esimators : 150, min_samples_split : 30,min_samples_leaf: 10\n",
      "CV Score - 0.820225108107669\n",
      "Train Score - 0.8637340847366082\n",
      "Esimators : 150, min_samples_split : 30,min_samples_leaf: 20\n",
      "CV Score - 0.8151002108479516\n",
      "Train Score - 0.8422739279101601\n",
      "Esimators : 150, min_samples_split : 30,min_samples_leaf: 30\n",
      "CV Score - 0.8130540572336914\n",
      "Train Score - 0.8318190562523079\n",
      "Esimators : 150, min_samples_split : 30,min_samples_leaf: 40\n",
      "CV Score - 0.8119030100777453\n",
      "Train Score - 0.8277040511384651\n",
      "Esimators : 150, min_samples_split : 40,min_samples_leaf: 10\n",
      "CV Score - 0.8185482538309248\n",
      "Train Score - 0.8568419690562646\n",
      "Esimators : 150, min_samples_split : 40,min_samples_leaf: 20\n",
      "CV Score - 0.8157035725537504\n",
      "Train Score - 0.8422819041460589\n",
      "Esimators : 150, min_samples_split : 40,min_samples_leaf: 30\n",
      "CV Score - 0.8134878233759364\n",
      "Train Score - 0.8320292720573423\n",
      "Esimators : 150, min_samples_split : 40,min_samples_leaf: 40\n",
      "CV Score - 0.812561561309084\n",
      "Train Score - 0.8271090837414343\n",
      "Esimators : 150, min_samples_split : 50,min_samples_leaf: 10\n",
      "CV Score - 0.8163902740897352\n",
      "Train Score - 0.8508536221223649\n",
      "Esimators : 150, min_samples_split : 50,min_samples_leaf: 20\n",
      "CV Score - 0.8148336495886955\n",
      "Train Score - 0.8406508899336695\n",
      "Esimators : 150, min_samples_split : 50,min_samples_leaf: 30\n",
      "CV Score - 0.8134994474991796\n",
      "Train Score - 0.8323145341858659\n",
      "Esimators : 150, min_samples_split : 50,min_samples_leaf: 40\n",
      "CV Score - 0.812026299826339\n",
      "Train Score - 0.8269488500178117\n"
     ]
    }
   ],
   "source": [
    "#Cross Validation of Random Forest\n",
    "for n in range(50,200,50):\n",
    "            for m in range(20,60,10):\n",
    "                    for m2 in range(10,50,10):\n",
    "                        clf = RandomForestClassifier(n_estimators = n,min_samples_split=m,min_samples_leaf=m2)\n",
    "                        clf.fit(X_over,y_over)\n",
    "                        print(f'Esimators : {n}, min_samples_split : {m},min_samples_leaf: {m2}')\n",
    "                        print(f'CV Score - {f1_score(clf.predict(X_cv),y_cv,average=\"weighted\")}')\n",
    "                        print(f'Train Score - {f1_score(clf.predict(X_train),y_train,average=\"weighted\")}')\n",
    "                        "
   ]
  },
  {
   "cell_type": "markdown",
   "id": "52d77869",
   "metadata": {
    "papermill": {
     "duration": 0.117474,
     "end_time": "2021-12-22T02:30:56.186717",
     "exception": false,
     "start_time": "2021-12-22T02:30:56.069243",
     "status": "completed"
    },
    "tags": []
   },
   "source": [
    "### Hyper Parameter Tuning using Cross Validation data with XGBoost"
   ]
  },
  {
   "cell_type": "code",
   "execution_count": 29,
   "id": "b514b93b",
   "metadata": {
    "execution": {
     "iopub.execute_input": "2021-12-22T02:30:56.429181Z",
     "iopub.status.busy": "2021-12-22T02:30:56.428471Z",
     "iopub.status.idle": "2021-12-22T02:32:07.271580Z",
     "shell.execute_reply": "2021-12-22T02:32:07.270528Z",
     "shell.execute_reply.started": "2021-12-21T05:24:53.869189Z"
    },
    "papermill": {
     "duration": 70.967003,
     "end_time": "2021-12-22T02:32:07.271807",
     "exception": false,
     "start_time": "2021-12-22T02:30:56.304804",
     "status": "completed"
    },
    "tags": []
   },
   "outputs": [
    {
     "name": "stdout",
     "output_type": "stream",
     "text": [
      "[02:30:56] WARNING: ../src/learner.cc:1115: Starting in XGBoost 1.3.0, the default evaluation metric used with the objective 'binary:logistic' was changed from 'error' to 'logloss'. Explicitly set eval_metric if you'd like to restore the old behavior.\n",
      "5,5\n",
      "Test Score - 0.8026611330996978\n",
      "Train Score - 0.7758371900602967\n",
      "[02:31:00] WARNING: ../src/learner.cc:1115: Starting in XGBoost 1.3.0, the default evaluation metric used with the objective 'binary:logistic' was changed from 'error' to 'logloss'. Explicitly set eval_metric if you'd like to restore the old behavior.\n",
      "5,6\n",
      "Test Score - 0.8024053225671386\n",
      "Train Score - 0.7766054918487676\n",
      "[02:31:04] WARNING: ../src/learner.cc:1115: Starting in XGBoost 1.3.0, the default evaluation metric used with the objective 'binary:logistic' was changed from 'error' to 'logloss'. Explicitly set eval_metric if you'd like to restore the old behavior.\n",
      "5,7\n",
      "Test Score - 0.8007238207692395\n",
      "Train Score - 0.7773993128624322\n",
      "[02:31:09] WARNING: ../src/learner.cc:1115: Starting in XGBoost 1.3.0, the default evaluation metric used with the objective 'binary:logistic' was changed from 'error' to 'logloss'. Explicitly set eval_metric if you'd like to restore the old behavior.\n",
      "5,8\n",
      "Test Score - 0.7998276814347736\n",
      "Train Score - 0.7770038297938009\n",
      "[02:31:14] WARNING: ../src/learner.cc:1115: Starting in XGBoost 1.3.0, the default evaluation metric used with the objective 'binary:logistic' was changed from 'error' to 'logloss'. Explicitly set eval_metric if you'd like to restore the old behavior.\n",
      "6,5\n",
      "Test Score - 0.8025495867933001\n",
      "Train Score - 0.7766565115382427\n",
      "[02:31:19] WARNING: ../src/learner.cc:1115: Starting in XGBoost 1.3.0, the default evaluation metric used with the objective 'binary:logistic' was changed from 'error' to 'logloss'. Explicitly set eval_metric if you'd like to restore the old behavior.\n",
      "6,6\n",
      "Test Score - 0.802128279158754\n",
      "Train Score - 0.7761819722701376\n",
      "[02:31:23] WARNING: ../src/learner.cc:1115: Starting in XGBoost 1.3.0, the default evaluation metric used with the objective 'binary:logistic' was changed from 'error' to 'logloss'. Explicitly set eval_metric if you'd like to restore the old behavior.\n",
      "6,7\n",
      "Test Score - 0.8016785579917381\n",
      "Train Score - 0.777162735938137\n",
      "[02:31:28] WARNING: ../src/learner.cc:1115: Starting in XGBoost 1.3.0, the default evaluation metric used with the objective 'binary:logistic' was changed from 'error' to 'logloss'. Explicitly set eval_metric if you'd like to restore the old behavior.\n",
      "6,8\n",
      "Test Score - 0.7993345000667577\n",
      "Train Score - 0.776656234008963\n",
      "[02:31:32] WARNING: ../src/learner.cc:1115: Starting in XGBoost 1.3.0, the default evaluation metric used with the objective 'binary:logistic' was changed from 'error' to 'logloss'. Explicitly set eval_metric if you'd like to restore the old behavior.\n",
      "7,5\n",
      "Test Score - 0.8037601235806834\n",
      "Train Score - 0.7771241272720363\n",
      "[02:31:36] WARNING: ../src/learner.cc:1115: Starting in XGBoost 1.3.0, the default evaluation metric used with the objective 'binary:logistic' was changed from 'error' to 'logloss'. Explicitly set eval_metric if you'd like to restore the old behavior.\n",
      "7,6\n",
      "Test Score - 0.8018673944409095\n",
      "Train Score - 0.7768594082542989\n",
      "[02:31:40] WARNING: ../src/learner.cc:1115: Starting in XGBoost 1.3.0, the default evaluation metric used with the objective 'binary:logistic' was changed from 'error' to 'logloss'. Explicitly set eval_metric if you'd like to restore the old behavior.\n",
      "7,7\n",
      "Test Score - 0.8003955965904346\n",
      "Train Score - 0.7767484999548515\n",
      "[02:31:45] WARNING: ../src/learner.cc:1115: Starting in XGBoost 1.3.0, the default evaluation metric used with the objective 'binary:logistic' was changed from 'error' to 'logloss'. Explicitly set eval_metric if you'd like to restore the old behavior.\n",
      "7,8\n",
      "Test Score - 0.7999533995200352\n",
      "Train Score - 0.7769513654825297\n",
      "[02:31:50] WARNING: ../src/learner.cc:1115: Starting in XGBoost 1.3.0, the default evaluation metric used with the objective 'binary:logistic' was changed from 'error' to 'logloss'. Explicitly set eval_metric if you'd like to restore the old behavior.\n",
      "8,5\n",
      "Test Score - 0.8032007097004626\n",
      "Train Score - 0.7777189480949905\n",
      "[02:31:54] WARNING: ../src/learner.cc:1115: Starting in XGBoost 1.3.0, the default evaluation metric used with the objective 'binary:logistic' was changed from 'error' to 'logloss'. Explicitly set eval_metric if you'd like to restore the old behavior.\n",
      "8,6\n",
      "Test Score - 0.8004216262618394\n",
      "Train Score - 0.7767036483999773\n",
      "[02:31:58] WARNING: ../src/learner.cc:1115: Starting in XGBoost 1.3.0, the default evaluation metric used with the objective 'binary:logistic' was changed from 'error' to 'logloss'. Explicitly set eval_metric if you'd like to restore the old behavior.\n",
      "8,7\n",
      "Test Score - 0.8008859456792375\n",
      "Train Score - 0.7769394107570212\n",
      "[02:32:02] WARNING: ../src/learner.cc:1115: Starting in XGBoost 1.3.0, the default evaluation metric used with the objective 'binary:logistic' was changed from 'error' to 'logloss'. Explicitly set eval_metric if you'd like to restore the old behavior.\n",
      "8,8\n",
      "Test Score - 0.800267264108988\n",
      "Train Score - 0.7771110161165653\n"
     ]
    }
   ],
   "source": [
    "#XGBoost Hyper Parameter tuning\n",
    "for ss in range(5,9):\n",
    "        for cs in range(5,9):\n",
    "\n",
    "            model = XGBClassifier(learning_rate =0.1,n_estimators=50,gamma=0,colsample_bytree=(cs/10),subsample=(ss/10),objective= 'binary:logistic',seed=27)\n",
    "            model.fit(X_over,y_over)\n",
    "            print(f'{ss},{cs}')\n",
    "            print(f'Test Score - {f1_score(model.predict(X_test),y_test,average=\"weighted\")}')\n",
    "            print(f'Train Score - {f1_score(model.predict(X_over),y_over,average=\"weighted\")}')\n",
    "        "
   ]
  },
  {
   "cell_type": "markdown",
   "id": "6e0b4c9d",
   "metadata": {
    "papermill": {
     "duration": 0.132959,
     "end_time": "2021-12-22T02:32:07.535937",
     "exception": false,
     "start_time": "2021-12-22T02:32:07.402978",
     "status": "completed"
    },
    "tags": []
   },
   "source": [
    "### Hyper Parameter Tuning using Cross Validation data with MLP"
   ]
  },
  {
   "cell_type": "code",
   "execution_count": 30,
   "id": "8bfc23ed",
   "metadata": {
    "execution": {
     "iopub.execute_input": "2021-12-22T02:32:07.806133Z",
     "iopub.status.busy": "2021-12-22T02:32:07.805438Z",
     "iopub.status.idle": "2021-12-22T02:38:40.021585Z",
     "shell.execute_reply": "2021-12-22T02:38:40.020962Z",
     "shell.execute_reply.started": "2021-12-21T22:36:34.419819Z"
    },
    "papermill": {
     "duration": 392.350349,
     "end_time": "2021-12-22T02:38:40.021739",
     "exception": false,
     "start_time": "2021-12-22T02:32:07.671390",
     "status": "completed"
    },
    "tags": []
   },
   "outputs": [
    {
     "name": "stdout",
     "output_type": "stream",
     "text": [
      "1,1\n",
      "0.9259734428122394\n",
      "0.9246379685633478\n",
      "1,2\n",
      "0.9259734428122394\n",
      "0.9246379685633478\n",
      "1,3\n",
      "0.9259734428122394\n",
      "0.9246379685633478\n",
      "1,4\n",
      "0.9259734428122394\n",
      "0.9246379685633478\n",
      "2,1\n",
      "0.9006324522066879\n",
      "0.8982048695415419\n",
      "2,2\n",
      "0.9259734428122394\n",
      "0.9246379685633478\n",
      "2,3\n",
      "0.9259734428122394\n",
      "0.9246379685633478\n",
      "2,4\n",
      "0.9074724556869204\n",
      "0.9054722157040838\n",
      "3,1\n",
      "0.8988316290499342\n",
      "0.8967135748908518\n",
      "3,2\n",
      "0.900947696624955\n",
      "0.8995239870957249\n",
      "3,3\n",
      "0.9059073758786809\n",
      "0.9036544280554984\n",
      "3,4\n",
      "0.9055646615077592\n",
      "0.9032627209844807\n",
      "4,1\n",
      "0.9259734428122394\n",
      "0.9246379685633478\n",
      "4,2\n",
      "0.8967306818694061\n",
      "0.8952458558778031\n",
      "4,3\n",
      "0.899211517534475\n",
      "0.8988328026373962\n",
      "4,4\n",
      "0.9014188249182296\n",
      "0.9008257862847849\n",
      "5,1\n",
      "0.9046103906050899\n",
      "0.9028148026697882\n",
      "5,2\n",
      "0.9259734428122394\n",
      "0.9246379685633478\n",
      "5,3\n",
      "0.9037554301594793\n",
      "0.9022526229047527\n",
      "5,4\n",
      "0.9094317024415861\n",
      "0.9075649307771044\n"
     ]
    }
   ],
   "source": [
    "#Neural Network Hyper Parametr Tuning\n",
    "for h1 in np.arange(1, 6):\n",
    "     for h2 in np.arange(1, 5):\n",
    "\n",
    "        clf = MLPClassifier(solver='sgd',alpha=1e-05,hidden_layer_sizes=(h1,h2), random_state=1,max_iter=100)\n",
    "        clf.fit(X_train_std, y_train)\n",
    "        print(f'{h1},{h2}')\n",
    "        print(f1_score(clf.predict(X_test_std),y_test,average='weighted'))\n",
    "        print(f1_score(clf.predict(X_train_std),y_train,average='weighted'))\n",
    "                "
   ]
  },
  {
   "cell_type": "markdown",
   "id": "b38df7ee",
   "metadata": {},
   "source": [
    "# Final Analysis"
   ]
  },
  {
   "cell_type": "code",
   "execution_count": 6,
   "id": "e3074d41",
   "metadata": {},
   "outputs": [],
   "source": [
    "import pandas as pd\n",
    "import matplotlib.pyplot as plt"
   ]
  },
  {
   "cell_type": "code",
   "execution_count": 5,
   "id": "22e9acc2",
   "metadata": {},
   "outputs": [
    {
     "data": {
      "text/html": [
       "<div>\n",
       "<style scoped>\n",
       "    .dataframe tbody tr th:only-of-type {\n",
       "        vertical-align: middle;\n",
       "    }\n",
       "\n",
       "    .dataframe tbody tr th {\n",
       "        vertical-align: top;\n",
       "    }\n",
       "\n",
       "    .dataframe thead th {\n",
       "        text-align: right;\n",
       "    }\n",
       "</style>\n",
       "<table border=\"1\" class=\"dataframe\">\n",
       "  <thead>\n",
       "    <tr style=\"text-align: right;\">\n",
       "      <th></th>\n",
       "      <th>Test</th>\n",
       "      <th>Train</th>\n",
       "      <th>Params</th>\n",
       "      <th>Model</th>\n",
       "    </tr>\n",
       "  </thead>\n",
       "  <tbody>\n",
       "    <tr>\n",
       "      <th>0</th>\n",
       "      <td>0.924638</td>\n",
       "      <td>0.924638</td>\n",
       "      <td>1,1</td>\n",
       "      <td>MLP</td>\n",
       "    </tr>\n",
       "    <tr>\n",
       "      <th>1</th>\n",
       "      <td>0.924638</td>\n",
       "      <td>0.924638</td>\n",
       "      <td>1,2</td>\n",
       "      <td>MLP</td>\n",
       "    </tr>\n",
       "    <tr>\n",
       "      <th>2</th>\n",
       "      <td>0.924638</td>\n",
       "      <td>0.924638</td>\n",
       "      <td>1,3</td>\n",
       "      <td>MLP</td>\n",
       "    </tr>\n",
       "    <tr>\n",
       "      <th>3</th>\n",
       "      <td>0.924638</td>\n",
       "      <td>0.924638</td>\n",
       "      <td>1,4</td>\n",
       "      <td>MLP</td>\n",
       "    </tr>\n",
       "    <tr>\n",
       "      <th>4</th>\n",
       "      <td>0.898205</td>\n",
       "      <td>0.898205</td>\n",
       "      <td>2,1</td>\n",
       "      <td>MLP</td>\n",
       "    </tr>\n",
       "  </tbody>\n",
       "</table>\n",
       "</div>"
      ],
      "text/plain": [
       "       Test     Train Params Model\n",
       "0  0.924638  0.924638    1,1   MLP\n",
       "1  0.924638  0.924638    1,2   MLP\n",
       "2  0.924638  0.924638    1,3   MLP\n",
       "3  0.924638  0.924638    1,4   MLP\n",
       "4  0.898205  0.898205    2,1   MLP"
      ]
     },
     "execution_count": 5,
     "metadata": {},
     "output_type": "execute_result"
    }
   ],
   "source": [
    "final = pd.read_excel(\"Final Project.xlsx\",sheet_name=\"Final\")\n",
    "final.head()"
   ]
  },
  {
   "cell_type": "code",
   "execution_count": 22,
   "id": "6677685e",
   "metadata": {},
   "outputs": [
    {
     "data": {
      "text/plain": [
       "[]"
      ]
     },
     "execution_count": 22,
     "metadata": {},
     "output_type": "execute_result"
    },
    {
     "data": {
      "image/png": "[encoded data removed]",
      "text/plain": [
       "<Figure size 432x288 with 1 Axes>"
      ]
     },
     "metadata": {
      "needs_background": "light"
     },
     "output_type": "display_data"
    }
   ],
   "source": [
    "fig,ax = plt.subplots(1,1)\n",
    "ax.plot(final[final['Model']=='MLP']['Test'],color='r')\n",
    "ax.plot(final[final['Model']=='XGB']['Test'],color='b')\n",
    "ax.plot(final[final['Model']=='RF']['Test'],color='g')\n",
    "ax.legend(['MLP','XGB','RF'])\n",
    "ax.set_ylabel('Test F1-Score')\n",
    "ax.set_xlabel('Grid Search Parameters')\n",
    "ax.set_xticks([])"
   ]
  },
  {
   "cell_type": "code",
   "execution_count": null,
   "id": "4ffbc859",
   "metadata": {},
   "outputs": [],
   "source": []
  }
 ],
 "metadata": {
  "kernelspec": {
   "display_name": "Python 3",
   "language": "python",
   "name": "python3"
  },
  "language_info": {
   "codemirror_mode": {
    "name": "ipython",
    "version": 3
   },
   "file_extension": ".py",
   "mimetype": "text/x-python",
   "name": "python",
   "nbconvert_exporter": "python",
   "pygments_lexer": "ipython3",
   "version": "3.8.8"
  },
  "papermill": {
   "default_parameters": {},
   "duration": 1678.470449,
   "end_time": "2021-12-22T02:38:41.920483",
   "environment_variables": {},
   "exception": null,
   "input_path": "__notebook__.ipynb",
   "output_path": "__notebook__.ipynb",
   "parameters": {},
   "start_time": "2021-12-22T02:10:43.450034",
   "version": "2.3.3"
  }
 },
 "nbformat": 4,
 "nbformat_minor": 5
}
